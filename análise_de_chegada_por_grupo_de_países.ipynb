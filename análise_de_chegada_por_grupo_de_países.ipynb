{
  "nbformat": 4,
  "nbformat_minor": 0,
  "metadata": {
    "colab": {
      "name": "análise de chegada por grupo de países ",
      "provenance": [],
      "authorship_tag": "ABX9TyOXArtAY7toVg9DOSBHUsQy",
      "include_colab_link": true
    },
    "kernelspec": {
      "name": "python3",
      "display_name": "Python 3"
    },
    "language_info": {
      "name": "python"
    }
  },
  "cells": [
    {
      "cell_type": "markdown",
      "metadata": {
        "id": "view-in-github",
        "colab_type": "text"
      },
      "source": [
        "<a href=\"https://colab.research.google.com/github/rachelpy/estudogrupodepaises/blob/main/an%C3%A1lise_de_chegada_por_grupo_de_pa%C3%ADses.ipynb\" target=\"_parent\"><img src=\"https://colab.research.google.com/assets/colab-badge.svg\" alt=\"Open In Colab\"/></a>"
      ]
    },
    {
      "cell_type": "markdown",
      "metadata": {
        "id": "RSOEaUdIMTe2"
      },
      "source": [
        "**Importing the Libraries**\n"
      ]
    },
    {
      "cell_type": "code",
      "metadata": {
        "id": "Sm3bCV83LSXM"
      },
      "source": [
        "import pandas as pd\n",
        "import numpy as np\n",
        "import matplotlib.pyplot as plt\n",
        "import seaborn as sns\n",
        "plt.rcParams['figure.figsize'] = (11,7)\n"
      ],
      "execution_count": 261,
      "outputs": []
    },
    {
      "cell_type": "markdown",
      "metadata": {
        "id": "I1hlO6AMMY-N"
      },
      "source": [
        "**Read the Data**"
      ]
    },
    {
      "cell_type": "code",
      "metadata": {
        "id": "ltzmYCfkLqfI"
      },
      "source": [
        "# Read the csv files\n",
        "df1 = pd.read_csv('/content/API_ST.INT.ARVL_DS2_en_csv_v2_1927083 (1).csv')\n",
        "df2 = pd.read_csv('/content/API_ST.INT.DPRT_DS2_en_csv_v2_1929304 (1).csv')\n",
        "df3 = pd.read_csv('/content/API_ST.INT.XPND.CD_DS2_en_csv_v2_1929314 (1).csv')\n"
      ],
      "execution_count": 262,
      "outputs": []
    },
    {
      "cell_type": "code",
      "metadata": {
        "id": "xBH1kBBkx17q"
      },
      "source": [
        " df1.to_csv('/content/API_ST.INT.ARVL_DS2_en_csv_v2_1927083 (1).csv', index=False)\n",
        " df2.to_csv('/content/API_ST.INT.DPRT_DS2_en_csv_v2_1929304 (1).csv', index=False)\n",
        " df3.to_csv('/content/API_ST.INT.XPND.CD_DS2_en_csv_v2_1929314 (1).csv', index=False)\n"
      ],
      "execution_count": 263,
      "outputs": []
    },
    {
      "cell_type": "markdown",
      "metadata": {
        "id": "jIOPfd_eHkFi"
      },
      "source": [
        "**Details**"
      ]
    },
    {
      "cell_type": "code",
      "metadata": {
        "colab": {
          "base_uri": "https://localhost:8080/",
          "height": 496
        },
        "id": "rkCShgkFIDXl",
        "outputId": "3e6de04e-8e74-477d-9519-9185f9418868"
      },
      "source": [
        "df1.head()"
      ],
      "execution_count": 264,
      "outputs": [
        {
          "output_type": "execute_result",
          "data": {
            "text/html": [
              "<div>\n",
              "<style scoped>\n",
              "    .dataframe tbody tr th:only-of-type {\n",
              "        vertical-align: middle;\n",
              "    }\n",
              "\n",
              "    .dataframe tbody tr th {\n",
              "        vertical-align: top;\n",
              "    }\n",
              "\n",
              "    .dataframe thead th {\n",
              "        text-align: right;\n",
              "    }\n",
              "</style>\n",
              "<table border=\"1\" class=\"dataframe\">\n",
              "  <thead>\n",
              "    <tr style=\"text-align: right;\">\n",
              "      <th></th>\n",
              "      <th>Country Name</th>\n",
              "      <th>Country Code</th>\n",
              "      <th>Indicator Name</th>\n",
              "      <th>Indicator Code</th>\n",
              "      <th>1960</th>\n",
              "      <th>1961</th>\n",
              "      <th>1962</th>\n",
              "      <th>1963</th>\n",
              "      <th>1964</th>\n",
              "      <th>1965</th>\n",
              "      <th>1966</th>\n",
              "      <th>1967</th>\n",
              "      <th>1968</th>\n",
              "      <th>1969</th>\n",
              "      <th>1970</th>\n",
              "      <th>1971</th>\n",
              "      <th>1972</th>\n",
              "      <th>1973</th>\n",
              "      <th>1974</th>\n",
              "      <th>1975</th>\n",
              "      <th>1976</th>\n",
              "      <th>1977</th>\n",
              "      <th>1978</th>\n",
              "      <th>1979</th>\n",
              "      <th>1980</th>\n",
              "      <th>1981</th>\n",
              "      <th>1982</th>\n",
              "      <th>1983</th>\n",
              "      <th>1984</th>\n",
              "      <th>1985</th>\n",
              "      <th>1986</th>\n",
              "      <th>1987</th>\n",
              "      <th>1988</th>\n",
              "      <th>1989</th>\n",
              "      <th>1990</th>\n",
              "      <th>1991</th>\n",
              "      <th>1992</th>\n",
              "      <th>1993</th>\n",
              "      <th>1994</th>\n",
              "      <th>1995</th>\n",
              "      <th>1996</th>\n",
              "      <th>1997</th>\n",
              "      <th>1998</th>\n",
              "      <th>1999</th>\n",
              "      <th>2000</th>\n",
              "      <th>2001</th>\n",
              "      <th>2002</th>\n",
              "      <th>2003</th>\n",
              "      <th>2004</th>\n",
              "      <th>2005</th>\n",
              "      <th>2006</th>\n",
              "      <th>2007</th>\n",
              "      <th>2008</th>\n",
              "      <th>2009</th>\n",
              "      <th>2010</th>\n",
              "      <th>2011</th>\n",
              "      <th>2012</th>\n",
              "      <th>2013</th>\n",
              "      <th>2014</th>\n",
              "      <th>2015</th>\n",
              "      <th>2016</th>\n",
              "      <th>2017</th>\n",
              "      <th>2018</th>\n",
              "      <th>2019</th>\n",
              "      <th>2020</th>\n",
              "    </tr>\n",
              "  </thead>\n",
              "  <tbody>\n",
              "    <tr>\n",
              "      <th>0</th>\n",
              "      <td>Aruba</td>\n",
              "      <td>ABW</td>\n",
              "      <td>International tourism, number of arrivals</td>\n",
              "      <td>ST.INT.ARVL</td>\n",
              "      <td>NaN</td>\n",
              "      <td>NaN</td>\n",
              "      <td>NaN</td>\n",
              "      <td>NaN</td>\n",
              "      <td>NaN</td>\n",
              "      <td>NaN</td>\n",
              "      <td>NaN</td>\n",
              "      <td>NaN</td>\n",
              "      <td>NaN</td>\n",
              "      <td>NaN</td>\n",
              "      <td>NaN</td>\n",
              "      <td>NaN</td>\n",
              "      <td>NaN</td>\n",
              "      <td>NaN</td>\n",
              "      <td>NaN</td>\n",
              "      <td>NaN</td>\n",
              "      <td>NaN</td>\n",
              "      <td>NaN</td>\n",
              "      <td>NaN</td>\n",
              "      <td>NaN</td>\n",
              "      <td>NaN</td>\n",
              "      <td>NaN</td>\n",
              "      <td>NaN</td>\n",
              "      <td>NaN</td>\n",
              "      <td>NaN</td>\n",
              "      <td>NaN</td>\n",
              "      <td>NaN</td>\n",
              "      <td>NaN</td>\n",
              "      <td>NaN</td>\n",
              "      <td>NaN</td>\n",
              "      <td>NaN</td>\n",
              "      <td>NaN</td>\n",
              "      <td>NaN</td>\n",
              "      <td>NaN</td>\n",
              "      <td>NaN</td>\n",
              "      <td>619000.0</td>\n",
              "      <td>641000.0</td>\n",
              "      <td>650000.0</td>\n",
              "      <td>647000.0</td>\n",
              "      <td>683000.0</td>\n",
              "      <td>721000.0</td>\n",
              "      <td>691000.0</td>\n",
              "      <td>643000.0</td>\n",
              "      <td>642000.0</td>\n",
              "      <td>728000.0</td>\n",
              "      <td>733000.0</td>\n",
              "      <td>694000.0</td>\n",
              "      <td>772000.0</td>\n",
              "      <td>827000.0</td>\n",
              "      <td>813000.0</td>\n",
              "      <td>824000.0</td>\n",
              "      <td>869000.0</td>\n",
              "      <td>904000.0</td>\n",
              "      <td>979000.0</td>\n",
              "      <td>1072000.0</td>\n",
              "      <td>1225000.0</td>\n",
              "      <td>1102000.0</td>\n",
              "      <td>1070500.0</td>\n",
              "      <td>1082000.0</td>\n",
              "      <td>NaN</td>\n",
              "      <td>NaN</td>\n",
              "    </tr>\n",
              "    <tr>\n",
              "      <th>1</th>\n",
              "      <td>Afghanistan</td>\n",
              "      <td>AFG</td>\n",
              "      <td>International tourism, number of arrivals</td>\n",
              "      <td>ST.INT.ARVL</td>\n",
              "      <td>NaN</td>\n",
              "      <td>NaN</td>\n",
              "      <td>NaN</td>\n",
              "      <td>NaN</td>\n",
              "      <td>NaN</td>\n",
              "      <td>NaN</td>\n",
              "      <td>NaN</td>\n",
              "      <td>NaN</td>\n",
              "      <td>NaN</td>\n",
              "      <td>NaN</td>\n",
              "      <td>NaN</td>\n",
              "      <td>NaN</td>\n",
              "      <td>NaN</td>\n",
              "      <td>NaN</td>\n",
              "      <td>NaN</td>\n",
              "      <td>NaN</td>\n",
              "      <td>NaN</td>\n",
              "      <td>NaN</td>\n",
              "      <td>NaN</td>\n",
              "      <td>NaN</td>\n",
              "      <td>NaN</td>\n",
              "      <td>NaN</td>\n",
              "      <td>NaN</td>\n",
              "      <td>NaN</td>\n",
              "      <td>NaN</td>\n",
              "      <td>NaN</td>\n",
              "      <td>NaN</td>\n",
              "      <td>NaN</td>\n",
              "      <td>NaN</td>\n",
              "      <td>NaN</td>\n",
              "      <td>NaN</td>\n",
              "      <td>NaN</td>\n",
              "      <td>NaN</td>\n",
              "      <td>NaN</td>\n",
              "      <td>NaN</td>\n",
              "      <td>NaN</td>\n",
              "      <td>NaN</td>\n",
              "      <td>NaN</td>\n",
              "      <td>NaN</td>\n",
              "      <td>NaN</td>\n",
              "      <td>NaN</td>\n",
              "      <td>NaN</td>\n",
              "      <td>NaN</td>\n",
              "      <td>NaN</td>\n",
              "      <td>NaN</td>\n",
              "      <td>NaN</td>\n",
              "      <td>NaN</td>\n",
              "      <td>NaN</td>\n",
              "      <td>NaN</td>\n",
              "      <td>NaN</td>\n",
              "      <td>NaN</td>\n",
              "      <td>NaN</td>\n",
              "      <td>NaN</td>\n",
              "      <td>NaN</td>\n",
              "      <td>NaN</td>\n",
              "      <td>NaN</td>\n",
              "      <td>NaN</td>\n",
              "      <td>NaN</td>\n",
              "      <td>NaN</td>\n",
              "      <td>NaN</td>\n",
              "      <td>NaN</td>\n",
              "    </tr>\n",
              "    <tr>\n",
              "      <th>2</th>\n",
              "      <td>Angola</td>\n",
              "      <td>AGO</td>\n",
              "      <td>International tourism, number of arrivals</td>\n",
              "      <td>ST.INT.ARVL</td>\n",
              "      <td>NaN</td>\n",
              "      <td>NaN</td>\n",
              "      <td>NaN</td>\n",
              "      <td>NaN</td>\n",
              "      <td>NaN</td>\n",
              "      <td>NaN</td>\n",
              "      <td>NaN</td>\n",
              "      <td>NaN</td>\n",
              "      <td>NaN</td>\n",
              "      <td>NaN</td>\n",
              "      <td>NaN</td>\n",
              "      <td>NaN</td>\n",
              "      <td>NaN</td>\n",
              "      <td>NaN</td>\n",
              "      <td>NaN</td>\n",
              "      <td>NaN</td>\n",
              "      <td>NaN</td>\n",
              "      <td>NaN</td>\n",
              "      <td>NaN</td>\n",
              "      <td>NaN</td>\n",
              "      <td>NaN</td>\n",
              "      <td>NaN</td>\n",
              "      <td>NaN</td>\n",
              "      <td>NaN</td>\n",
              "      <td>NaN</td>\n",
              "      <td>NaN</td>\n",
              "      <td>NaN</td>\n",
              "      <td>NaN</td>\n",
              "      <td>NaN</td>\n",
              "      <td>NaN</td>\n",
              "      <td>NaN</td>\n",
              "      <td>NaN</td>\n",
              "      <td>NaN</td>\n",
              "      <td>NaN</td>\n",
              "      <td>NaN</td>\n",
              "      <td>9000.0</td>\n",
              "      <td>21000.0</td>\n",
              "      <td>45000.0</td>\n",
              "      <td>52000.0</td>\n",
              "      <td>45000.0</td>\n",
              "      <td>51000.0</td>\n",
              "      <td>67000.0</td>\n",
              "      <td>91000.0</td>\n",
              "      <td>107000.0</td>\n",
              "      <td>194000.0</td>\n",
              "      <td>210000.0</td>\n",
              "      <td>121000.0</td>\n",
              "      <td>195000.0</td>\n",
              "      <td>294000.0</td>\n",
              "      <td>366000.0</td>\n",
              "      <td>425000.0</td>\n",
              "      <td>481000.0</td>\n",
              "      <td>528000.0</td>\n",
              "      <td>650000.0</td>\n",
              "      <td>595000.0</td>\n",
              "      <td>592000.0</td>\n",
              "      <td>397000.0</td>\n",
              "      <td>261000.0</td>\n",
              "      <td>218000.0</td>\n",
              "      <td>NaN</td>\n",
              "      <td>NaN</td>\n",
              "    </tr>\n",
              "    <tr>\n",
              "      <th>3</th>\n",
              "      <td>Albania</td>\n",
              "      <td>ALB</td>\n",
              "      <td>International tourism, number of arrivals</td>\n",
              "      <td>ST.INT.ARVL</td>\n",
              "      <td>NaN</td>\n",
              "      <td>NaN</td>\n",
              "      <td>NaN</td>\n",
              "      <td>NaN</td>\n",
              "      <td>NaN</td>\n",
              "      <td>NaN</td>\n",
              "      <td>NaN</td>\n",
              "      <td>NaN</td>\n",
              "      <td>NaN</td>\n",
              "      <td>NaN</td>\n",
              "      <td>NaN</td>\n",
              "      <td>NaN</td>\n",
              "      <td>NaN</td>\n",
              "      <td>NaN</td>\n",
              "      <td>NaN</td>\n",
              "      <td>NaN</td>\n",
              "      <td>NaN</td>\n",
              "      <td>NaN</td>\n",
              "      <td>NaN</td>\n",
              "      <td>NaN</td>\n",
              "      <td>NaN</td>\n",
              "      <td>NaN</td>\n",
              "      <td>NaN</td>\n",
              "      <td>NaN</td>\n",
              "      <td>NaN</td>\n",
              "      <td>NaN</td>\n",
              "      <td>NaN</td>\n",
              "      <td>NaN</td>\n",
              "      <td>NaN</td>\n",
              "      <td>NaN</td>\n",
              "      <td>NaN</td>\n",
              "      <td>NaN</td>\n",
              "      <td>NaN</td>\n",
              "      <td>NaN</td>\n",
              "      <td>NaN</td>\n",
              "      <td>NaN</td>\n",
              "      <td>NaN</td>\n",
              "      <td>NaN</td>\n",
              "      <td>NaN</td>\n",
              "      <td>NaN</td>\n",
              "      <td>NaN</td>\n",
              "      <td>NaN</td>\n",
              "      <td>NaN</td>\n",
              "      <td>NaN</td>\n",
              "      <td>NaN</td>\n",
              "      <td>NaN</td>\n",
              "      <td>NaN</td>\n",
              "      <td>1062000.0</td>\n",
              "      <td>1247000.0</td>\n",
              "      <td>1711000.0</td>\n",
              "      <td>2191000.0</td>\n",
              "      <td>2469000.0</td>\n",
              "      <td>3156000.0</td>\n",
              "      <td>2857000.0</td>\n",
              "      <td>3341000.0</td>\n",
              "      <td>3784000.0</td>\n",
              "      <td>4070000.0</td>\n",
              "      <td>4643000.0</td>\n",
              "      <td>5340000.0</td>\n",
              "      <td>NaN</td>\n",
              "      <td>NaN</td>\n",
              "    </tr>\n",
              "    <tr>\n",
              "      <th>4</th>\n",
              "      <td>Andorra</td>\n",
              "      <td>AND</td>\n",
              "      <td>International tourism, number of arrivals</td>\n",
              "      <td>ST.INT.ARVL</td>\n",
              "      <td>NaN</td>\n",
              "      <td>NaN</td>\n",
              "      <td>NaN</td>\n",
              "      <td>NaN</td>\n",
              "      <td>NaN</td>\n",
              "      <td>NaN</td>\n",
              "      <td>NaN</td>\n",
              "      <td>NaN</td>\n",
              "      <td>NaN</td>\n",
              "      <td>NaN</td>\n",
              "      <td>NaN</td>\n",
              "      <td>NaN</td>\n",
              "      <td>NaN</td>\n",
              "      <td>NaN</td>\n",
              "      <td>NaN</td>\n",
              "      <td>NaN</td>\n",
              "      <td>NaN</td>\n",
              "      <td>NaN</td>\n",
              "      <td>NaN</td>\n",
              "      <td>NaN</td>\n",
              "      <td>NaN</td>\n",
              "      <td>NaN</td>\n",
              "      <td>NaN</td>\n",
              "      <td>NaN</td>\n",
              "      <td>NaN</td>\n",
              "      <td>NaN</td>\n",
              "      <td>NaN</td>\n",
              "      <td>NaN</td>\n",
              "      <td>NaN</td>\n",
              "      <td>NaN</td>\n",
              "      <td>NaN</td>\n",
              "      <td>NaN</td>\n",
              "      <td>NaN</td>\n",
              "      <td>NaN</td>\n",
              "      <td>NaN</td>\n",
              "      <td>NaN</td>\n",
              "      <td>NaN</td>\n",
              "      <td>NaN</td>\n",
              "      <td>NaN</td>\n",
              "      <td>2347000.0</td>\n",
              "      <td>2949000.0</td>\n",
              "      <td>3516000.0</td>\n",
              "      <td>3387000.0</td>\n",
              "      <td>3138000.0</td>\n",
              "      <td>2791000.0</td>\n",
              "      <td>2418000.0</td>\n",
              "      <td>2227000.0</td>\n",
              "      <td>2189000.0</td>\n",
              "      <td>2059000.0</td>\n",
              "      <td>1830000.0</td>\n",
              "      <td>1808000.0</td>\n",
              "      <td>2242000.0</td>\n",
              "      <td>2238000.0</td>\n",
              "      <td>2328000.0</td>\n",
              "      <td>2363000.0</td>\n",
              "      <td>2663000.0</td>\n",
              "      <td>2819000.0</td>\n",
              "      <td>3003000.0</td>\n",
              "      <td>3042000.0</td>\n",
              "      <td>NaN</td>\n",
              "      <td>NaN</td>\n",
              "    </tr>\n",
              "  </tbody>\n",
              "</table>\n",
              "</div>"
            ],
            "text/plain": [
              "  Country Name Country Code  ... 2019 2020\n",
              "0        Aruba          ABW  ...  NaN  NaN\n",
              "1  Afghanistan          AFG  ...  NaN  NaN\n",
              "2       Angola          AGO  ...  NaN  NaN\n",
              "3      Albania          ALB  ...  NaN  NaN\n",
              "4      Andorra          AND  ...  NaN  NaN\n",
              "\n",
              "[5 rows x 65 columns]"
            ]
          },
          "metadata": {},
          "execution_count": 264
        }
      ]
    },
    {
      "cell_type": "code",
      "metadata": {
        "colab": {
          "base_uri": "https://localhost:8080/",
          "height": 419
        },
        "id": "vPu-iy1lT-nX",
        "outputId": "04767574-f971-459f-a994-ce4a4877d9ea"
      },
      "source": [
        "Arrival = df1[['Country Name'\t,'Country Code',\t'Indicator Name',\t'Indicator Code',\t'2016',\t'2017','2018']]\n",
        "Arrival"
      ],
      "execution_count": 340,
      "outputs": [
        {
          "output_type": "execute_result",
          "data": {
            "text/html": [
              "<div>\n",
              "<style scoped>\n",
              "    .dataframe tbody tr th:only-of-type {\n",
              "        vertical-align: middle;\n",
              "    }\n",
              "\n",
              "    .dataframe tbody tr th {\n",
              "        vertical-align: top;\n",
              "    }\n",
              "\n",
              "    .dataframe thead th {\n",
              "        text-align: right;\n",
              "    }\n",
              "</style>\n",
              "<table border=\"1\" class=\"dataframe\">\n",
              "  <thead>\n",
              "    <tr style=\"text-align: right;\">\n",
              "      <th></th>\n",
              "      <th>Country Name</th>\n",
              "      <th>Country Code</th>\n",
              "      <th>Indicator Name</th>\n",
              "      <th>Indicator Code</th>\n",
              "      <th>2016</th>\n",
              "      <th>2017</th>\n",
              "      <th>2018</th>\n",
              "    </tr>\n",
              "  </thead>\n",
              "  <tbody>\n",
              "    <tr>\n",
              "      <th>0</th>\n",
              "      <td>Aruba</td>\n",
              "      <td>ABW</td>\n",
              "      <td>International tourism, number of arrivals</td>\n",
              "      <td>ST.INT.ARVL</td>\n",
              "      <td>1102000.0</td>\n",
              "      <td>1070500.0</td>\n",
              "      <td>1082000.0</td>\n",
              "    </tr>\n",
              "    <tr>\n",
              "      <th>1</th>\n",
              "      <td>Afghanistan</td>\n",
              "      <td>AFG</td>\n",
              "      <td>International tourism, number of arrivals</td>\n",
              "      <td>ST.INT.ARVL</td>\n",
              "      <td>NaN</td>\n",
              "      <td>NaN</td>\n",
              "      <td>NaN</td>\n",
              "    </tr>\n",
              "    <tr>\n",
              "      <th>2</th>\n",
              "      <td>Angola</td>\n",
              "      <td>AGO</td>\n",
              "      <td>International tourism, number of arrivals</td>\n",
              "      <td>ST.INT.ARVL</td>\n",
              "      <td>397000.0</td>\n",
              "      <td>261000.0</td>\n",
              "      <td>218000.0</td>\n",
              "    </tr>\n",
              "    <tr>\n",
              "      <th>3</th>\n",
              "      <td>Albania</td>\n",
              "      <td>ALB</td>\n",
              "      <td>International tourism, number of arrivals</td>\n",
              "      <td>ST.INT.ARVL</td>\n",
              "      <td>4070000.0</td>\n",
              "      <td>4643000.0</td>\n",
              "      <td>5340000.0</td>\n",
              "    </tr>\n",
              "    <tr>\n",
              "      <th>4</th>\n",
              "      <td>Andorra</td>\n",
              "      <td>AND</td>\n",
              "      <td>International tourism, number of arrivals</td>\n",
              "      <td>ST.INT.ARVL</td>\n",
              "      <td>2819000.0</td>\n",
              "      <td>3003000.0</td>\n",
              "      <td>3042000.0</td>\n",
              "    </tr>\n",
              "    <tr>\n",
              "      <th>...</th>\n",
              "      <td>...</td>\n",
              "      <td>...</td>\n",
              "      <td>...</td>\n",
              "      <td>...</td>\n",
              "      <td>...</td>\n",
              "      <td>...</td>\n",
              "      <td>...</td>\n",
              "    </tr>\n",
              "    <tr>\n",
              "      <th>259</th>\n",
              "      <td>Kosovo</td>\n",
              "      <td>XKX</td>\n",
              "      <td>International tourism, number of arrivals</td>\n",
              "      <td>ST.INT.ARVL</td>\n",
              "      <td>NaN</td>\n",
              "      <td>NaN</td>\n",
              "      <td>NaN</td>\n",
              "    </tr>\n",
              "    <tr>\n",
              "      <th>260</th>\n",
              "      <td>Yemen, Rep.</td>\n",
              "      <td>YEM</td>\n",
              "      <td>International tourism, number of arrivals</td>\n",
              "      <td>ST.INT.ARVL</td>\n",
              "      <td>NaN</td>\n",
              "      <td>NaN</td>\n",
              "      <td>NaN</td>\n",
              "    </tr>\n",
              "    <tr>\n",
              "      <th>261</th>\n",
              "      <td>South Africa</td>\n",
              "      <td>ZAF</td>\n",
              "      <td>International tourism, number of arrivals</td>\n",
              "      <td>ST.INT.ARVL</td>\n",
              "      <td>10044000.0</td>\n",
              "      <td>10285000.0</td>\n",
              "      <td>10472000.0</td>\n",
              "    </tr>\n",
              "    <tr>\n",
              "      <th>262</th>\n",
              "      <td>Zambia</td>\n",
              "      <td>ZMB</td>\n",
              "      <td>International tourism, number of arrivals</td>\n",
              "      <td>ST.INT.ARVL</td>\n",
              "      <td>956000.0</td>\n",
              "      <td>1083000.0</td>\n",
              "      <td>1072000.0</td>\n",
              "    </tr>\n",
              "    <tr>\n",
              "      <th>263</th>\n",
              "      <td>Zimbabwe</td>\n",
              "      <td>ZWE</td>\n",
              "      <td>International tourism, number of arrivals</td>\n",
              "      <td>ST.INT.ARVL</td>\n",
              "      <td>2168000.0</td>\n",
              "      <td>2423000.0</td>\n",
              "      <td>2580000.0</td>\n",
              "    </tr>\n",
              "  </tbody>\n",
              "</table>\n",
              "<p>264 rows × 7 columns</p>\n",
              "</div>"
            ],
            "text/plain": [
              "     Country Name Country Code  ...        2017        2018\n",
              "0           Aruba          ABW  ...   1070500.0   1082000.0\n",
              "1     Afghanistan          AFG  ...         NaN         NaN\n",
              "2          Angola          AGO  ...    261000.0    218000.0\n",
              "3         Albania          ALB  ...   4643000.0   5340000.0\n",
              "4         Andorra          AND  ...   3003000.0   3042000.0\n",
              "..            ...          ...  ...         ...         ...\n",
              "259        Kosovo          XKX  ...         NaN         NaN\n",
              "260   Yemen, Rep.          YEM  ...         NaN         NaN\n",
              "261  South Africa          ZAF  ...  10285000.0  10472000.0\n",
              "262        Zambia          ZMB  ...   1083000.0   1072000.0\n",
              "263      Zimbabwe          ZWE  ...   2423000.0   2580000.0\n",
              "\n",
              "[264 rows x 7 columns]"
            ]
          },
          "metadata": {},
          "execution_count": 340
        }
      ]
    },
    {
      "cell_type": "code",
      "metadata": {
        "colab": {
          "base_uri": "https://localhost:8080/",
          "height": 725
        },
        "id": "Z08mIfaEorfC",
        "outputId": "032246e9-0803-46c7-f3b4-1ed55ec49a57"
      },
      "source": [
        "Arrival['2016'] = (Arrival['2018'])).values.astype(np.int64)\n",
        "Arrival['2017'] = (round(Arrival['2018'])).values.astype(np.int64)\n",
        "Arrival['2018'] = (round(Arrival['2018'])).values.astype(np.int64)\n",
        "Arrival"
      ],
      "execution_count": 266,
      "outputs": [
        {
          "output_type": "stream",
          "name": "stderr",
          "text": [
            "/usr/local/lib/python3.7/dist-packages/ipykernel_launcher.py:1: SettingWithCopyWarning: \n",
            "A value is trying to be set on a copy of a slice from a DataFrame.\n",
            "Try using .loc[row_indexer,col_indexer] = value instead\n",
            "\n",
            "See the caveats in the documentation: https://pandas.pydata.org/pandas-docs/stable/user_guide/indexing.html#returning-a-view-versus-a-copy\n",
            "  \"\"\"Entry point for launching an IPython kernel.\n",
            "/usr/local/lib/python3.7/dist-packages/ipykernel_launcher.py:2: SettingWithCopyWarning: \n",
            "A value is trying to be set on a copy of a slice from a DataFrame.\n",
            "Try using .loc[row_indexer,col_indexer] = value instead\n",
            "\n",
            "See the caveats in the documentation: https://pandas.pydata.org/pandas-docs/stable/user_guide/indexing.html#returning-a-view-versus-a-copy\n",
            "  \n",
            "/usr/local/lib/python3.7/dist-packages/ipykernel_launcher.py:3: SettingWithCopyWarning: \n",
            "A value is trying to be set on a copy of a slice from a DataFrame.\n",
            "Try using .loc[row_indexer,col_indexer] = value instead\n",
            "\n",
            "See the caveats in the documentation: https://pandas.pydata.org/pandas-docs/stable/user_guide/indexing.html#returning-a-view-versus-a-copy\n",
            "  This is separate from the ipykernel package so we can avoid doing imports until\n"
          ]
        },
        {
          "output_type": "execute_result",
          "data": {
            "text/html": [
              "<div>\n",
              "<style scoped>\n",
              "    .dataframe tbody tr th:only-of-type {\n",
              "        vertical-align: middle;\n",
              "    }\n",
              "\n",
              "    .dataframe tbody tr th {\n",
              "        vertical-align: top;\n",
              "    }\n",
              "\n",
              "    .dataframe thead th {\n",
              "        text-align: right;\n",
              "    }\n",
              "</style>\n",
              "<table border=\"1\" class=\"dataframe\">\n",
              "  <thead>\n",
              "    <tr style=\"text-align: right;\">\n",
              "      <th></th>\n",
              "      <th>Country Name</th>\n",
              "      <th>Country Code</th>\n",
              "      <th>Indicator Name</th>\n",
              "      <th>Indicator Code</th>\n",
              "      <th>2016</th>\n",
              "      <th>2017</th>\n",
              "      <th>2018</th>\n",
              "    </tr>\n",
              "  </thead>\n",
              "  <tbody>\n",
              "    <tr>\n",
              "      <th>0</th>\n",
              "      <td>Aruba</td>\n",
              "      <td>ABW</td>\n",
              "      <td>International tourism, number of arrivals</td>\n",
              "      <td>ST.INT.ARVL</td>\n",
              "      <td>1082000</td>\n",
              "      <td>1082000</td>\n",
              "      <td>1082000</td>\n",
              "    </tr>\n",
              "    <tr>\n",
              "      <th>1</th>\n",
              "      <td>Afghanistan</td>\n",
              "      <td>AFG</td>\n",
              "      <td>International tourism, number of arrivals</td>\n",
              "      <td>ST.INT.ARVL</td>\n",
              "      <td>-9223372036854775808</td>\n",
              "      <td>-9223372036854775808</td>\n",
              "      <td>-9223372036854775808</td>\n",
              "    </tr>\n",
              "    <tr>\n",
              "      <th>2</th>\n",
              "      <td>Angola</td>\n",
              "      <td>AGO</td>\n",
              "      <td>International tourism, number of arrivals</td>\n",
              "      <td>ST.INT.ARVL</td>\n",
              "      <td>218000</td>\n",
              "      <td>218000</td>\n",
              "      <td>218000</td>\n",
              "    </tr>\n",
              "    <tr>\n",
              "      <th>3</th>\n",
              "      <td>Albania</td>\n",
              "      <td>ALB</td>\n",
              "      <td>International tourism, number of arrivals</td>\n",
              "      <td>ST.INT.ARVL</td>\n",
              "      <td>5340000</td>\n",
              "      <td>5340000</td>\n",
              "      <td>5340000</td>\n",
              "    </tr>\n",
              "    <tr>\n",
              "      <th>4</th>\n",
              "      <td>Andorra</td>\n",
              "      <td>AND</td>\n",
              "      <td>International tourism, number of arrivals</td>\n",
              "      <td>ST.INT.ARVL</td>\n",
              "      <td>3042000</td>\n",
              "      <td>3042000</td>\n",
              "      <td>3042000</td>\n",
              "    </tr>\n",
              "    <tr>\n",
              "      <th>...</th>\n",
              "      <td>...</td>\n",
              "      <td>...</td>\n",
              "      <td>...</td>\n",
              "      <td>...</td>\n",
              "      <td>...</td>\n",
              "      <td>...</td>\n",
              "      <td>...</td>\n",
              "    </tr>\n",
              "    <tr>\n",
              "      <th>259</th>\n",
              "      <td>Kosovo</td>\n",
              "      <td>XKX</td>\n",
              "      <td>International tourism, number of arrivals</td>\n",
              "      <td>ST.INT.ARVL</td>\n",
              "      <td>-9223372036854775808</td>\n",
              "      <td>-9223372036854775808</td>\n",
              "      <td>-9223372036854775808</td>\n",
              "    </tr>\n",
              "    <tr>\n",
              "      <th>260</th>\n",
              "      <td>Yemen, Rep.</td>\n",
              "      <td>YEM</td>\n",
              "      <td>International tourism, number of arrivals</td>\n",
              "      <td>ST.INT.ARVL</td>\n",
              "      <td>-9223372036854775808</td>\n",
              "      <td>-9223372036854775808</td>\n",
              "      <td>-9223372036854775808</td>\n",
              "    </tr>\n",
              "    <tr>\n",
              "      <th>261</th>\n",
              "      <td>South Africa</td>\n",
              "      <td>ZAF</td>\n",
              "      <td>International tourism, number of arrivals</td>\n",
              "      <td>ST.INT.ARVL</td>\n",
              "      <td>10472000</td>\n",
              "      <td>10472000</td>\n",
              "      <td>10472000</td>\n",
              "    </tr>\n",
              "    <tr>\n",
              "      <th>262</th>\n",
              "      <td>Zambia</td>\n",
              "      <td>ZMB</td>\n",
              "      <td>International tourism, number of arrivals</td>\n",
              "      <td>ST.INT.ARVL</td>\n",
              "      <td>1072000</td>\n",
              "      <td>1072000</td>\n",
              "      <td>1072000</td>\n",
              "    </tr>\n",
              "    <tr>\n",
              "      <th>263</th>\n",
              "      <td>Zimbabwe</td>\n",
              "      <td>ZWE</td>\n",
              "      <td>International tourism, number of arrivals</td>\n",
              "      <td>ST.INT.ARVL</td>\n",
              "      <td>2580000</td>\n",
              "      <td>2580000</td>\n",
              "      <td>2580000</td>\n",
              "    </tr>\n",
              "  </tbody>\n",
              "</table>\n",
              "<p>264 rows × 7 columns</p>\n",
              "</div>"
            ],
            "text/plain": [
              "     Country Name Country Code  ...                 2017                 2018\n",
              "0           Aruba          ABW  ...              1082000              1082000\n",
              "1     Afghanistan          AFG  ... -9223372036854775808 -9223372036854775808\n",
              "2          Angola          AGO  ...               218000               218000\n",
              "3         Albania          ALB  ...              5340000              5340000\n",
              "4         Andorra          AND  ...              3042000              3042000\n",
              "..            ...          ...  ...                  ...                  ...\n",
              "259        Kosovo          XKX  ... -9223372036854775808 -9223372036854775808\n",
              "260   Yemen, Rep.          YEM  ... -9223372036854775808 -9223372036854775808\n",
              "261  South Africa          ZAF  ...             10472000             10472000\n",
              "262        Zambia          ZMB  ...              1072000              1072000\n",
              "263      Zimbabwe          ZWE  ...              2580000              2580000\n",
              "\n",
              "[264 rows x 7 columns]"
            ]
          },
          "metadata": {},
          "execution_count": 266
        }
      ]
    },
    {
      "cell_type": "code",
      "metadata": {
        "colab": {
          "base_uri": "https://localhost:8080/",
          "height": 204
        },
        "id": "su7avNdYqrsi",
        "outputId": "fd157825-3c12-4095-85a8-ca76a9043525"
      },
      "source": [
        "Arrival.head()"
      ],
      "execution_count": 341,
      "outputs": [
        {
          "output_type": "execute_result",
          "data": {
            "text/html": [
              "<div>\n",
              "<style scoped>\n",
              "    .dataframe tbody tr th:only-of-type {\n",
              "        vertical-align: middle;\n",
              "    }\n",
              "\n",
              "    .dataframe tbody tr th {\n",
              "        vertical-align: top;\n",
              "    }\n",
              "\n",
              "    .dataframe thead th {\n",
              "        text-align: right;\n",
              "    }\n",
              "</style>\n",
              "<table border=\"1\" class=\"dataframe\">\n",
              "  <thead>\n",
              "    <tr style=\"text-align: right;\">\n",
              "      <th></th>\n",
              "      <th>Country Name</th>\n",
              "      <th>Country Code</th>\n",
              "      <th>Indicator Name</th>\n",
              "      <th>Indicator Code</th>\n",
              "      <th>2016</th>\n",
              "      <th>2017</th>\n",
              "      <th>2018</th>\n",
              "    </tr>\n",
              "  </thead>\n",
              "  <tbody>\n",
              "    <tr>\n",
              "      <th>0</th>\n",
              "      <td>Aruba</td>\n",
              "      <td>ABW</td>\n",
              "      <td>International tourism, number of arrivals</td>\n",
              "      <td>ST.INT.ARVL</td>\n",
              "      <td>1102000.0</td>\n",
              "      <td>1070500.0</td>\n",
              "      <td>1082000.0</td>\n",
              "    </tr>\n",
              "    <tr>\n",
              "      <th>1</th>\n",
              "      <td>Afghanistan</td>\n",
              "      <td>AFG</td>\n",
              "      <td>International tourism, number of arrivals</td>\n",
              "      <td>ST.INT.ARVL</td>\n",
              "      <td>NaN</td>\n",
              "      <td>NaN</td>\n",
              "      <td>NaN</td>\n",
              "    </tr>\n",
              "    <tr>\n",
              "      <th>2</th>\n",
              "      <td>Angola</td>\n",
              "      <td>AGO</td>\n",
              "      <td>International tourism, number of arrivals</td>\n",
              "      <td>ST.INT.ARVL</td>\n",
              "      <td>397000.0</td>\n",
              "      <td>261000.0</td>\n",
              "      <td>218000.0</td>\n",
              "    </tr>\n",
              "    <tr>\n",
              "      <th>3</th>\n",
              "      <td>Albania</td>\n",
              "      <td>ALB</td>\n",
              "      <td>International tourism, number of arrivals</td>\n",
              "      <td>ST.INT.ARVL</td>\n",
              "      <td>4070000.0</td>\n",
              "      <td>4643000.0</td>\n",
              "      <td>5340000.0</td>\n",
              "    </tr>\n",
              "    <tr>\n",
              "      <th>4</th>\n",
              "      <td>Andorra</td>\n",
              "      <td>AND</td>\n",
              "      <td>International tourism, number of arrivals</td>\n",
              "      <td>ST.INT.ARVL</td>\n",
              "      <td>2819000.0</td>\n",
              "      <td>3003000.0</td>\n",
              "      <td>3042000.0</td>\n",
              "    </tr>\n",
              "  </tbody>\n",
              "</table>\n",
              "</div>"
            ],
            "text/plain": [
              "  Country Name Country Code  ...       2017       2018\n",
              "0        Aruba          ABW  ...  1070500.0  1082000.0\n",
              "1  Afghanistan          AFG  ...        NaN        NaN\n",
              "2       Angola          AGO  ...   261000.0   218000.0\n",
              "3      Albania          ALB  ...  4643000.0  5340000.0\n",
              "4      Andorra          AND  ...  3003000.0  3042000.0\n",
              "\n",
              "[5 rows x 7 columns]"
            ]
          },
          "metadata": {},
          "execution_count": 341
        }
      ]
    },
    {
      "cell_type": "code",
      "metadata": {
        "colab": {
          "base_uri": "https://localhost:8080/",
          "height": 204
        },
        "id": "ovJkx4DhFmCx",
        "outputId": "fe57c122-666e-4a9b-e381-9ce533633822"
      },
      "source": [
        "Arrival.tail(5)"
      ],
      "execution_count": 342,
      "outputs": [
        {
          "output_type": "execute_result",
          "data": {
            "text/html": [
              "<div>\n",
              "<style scoped>\n",
              "    .dataframe tbody tr th:only-of-type {\n",
              "        vertical-align: middle;\n",
              "    }\n",
              "\n",
              "    .dataframe tbody tr th {\n",
              "        vertical-align: top;\n",
              "    }\n",
              "\n",
              "    .dataframe thead th {\n",
              "        text-align: right;\n",
              "    }\n",
              "</style>\n",
              "<table border=\"1\" class=\"dataframe\">\n",
              "  <thead>\n",
              "    <tr style=\"text-align: right;\">\n",
              "      <th></th>\n",
              "      <th>Country Name</th>\n",
              "      <th>Country Code</th>\n",
              "      <th>Indicator Name</th>\n",
              "      <th>Indicator Code</th>\n",
              "      <th>2016</th>\n",
              "      <th>2017</th>\n",
              "      <th>2018</th>\n",
              "    </tr>\n",
              "  </thead>\n",
              "  <tbody>\n",
              "    <tr>\n",
              "      <th>259</th>\n",
              "      <td>Kosovo</td>\n",
              "      <td>XKX</td>\n",
              "      <td>International tourism, number of arrivals</td>\n",
              "      <td>ST.INT.ARVL</td>\n",
              "      <td>NaN</td>\n",
              "      <td>NaN</td>\n",
              "      <td>NaN</td>\n",
              "    </tr>\n",
              "    <tr>\n",
              "      <th>260</th>\n",
              "      <td>Yemen, Rep.</td>\n",
              "      <td>YEM</td>\n",
              "      <td>International tourism, number of arrivals</td>\n",
              "      <td>ST.INT.ARVL</td>\n",
              "      <td>NaN</td>\n",
              "      <td>NaN</td>\n",
              "      <td>NaN</td>\n",
              "    </tr>\n",
              "    <tr>\n",
              "      <th>261</th>\n",
              "      <td>South Africa</td>\n",
              "      <td>ZAF</td>\n",
              "      <td>International tourism, number of arrivals</td>\n",
              "      <td>ST.INT.ARVL</td>\n",
              "      <td>10044000.0</td>\n",
              "      <td>10285000.0</td>\n",
              "      <td>10472000.0</td>\n",
              "    </tr>\n",
              "    <tr>\n",
              "      <th>262</th>\n",
              "      <td>Zambia</td>\n",
              "      <td>ZMB</td>\n",
              "      <td>International tourism, number of arrivals</td>\n",
              "      <td>ST.INT.ARVL</td>\n",
              "      <td>956000.0</td>\n",
              "      <td>1083000.0</td>\n",
              "      <td>1072000.0</td>\n",
              "    </tr>\n",
              "    <tr>\n",
              "      <th>263</th>\n",
              "      <td>Zimbabwe</td>\n",
              "      <td>ZWE</td>\n",
              "      <td>International tourism, number of arrivals</td>\n",
              "      <td>ST.INT.ARVL</td>\n",
              "      <td>2168000.0</td>\n",
              "      <td>2423000.0</td>\n",
              "      <td>2580000.0</td>\n",
              "    </tr>\n",
              "  </tbody>\n",
              "</table>\n",
              "</div>"
            ],
            "text/plain": [
              "     Country Name Country Code  ...        2017        2018\n",
              "259        Kosovo          XKX  ...         NaN         NaN\n",
              "260   Yemen, Rep.          YEM  ...         NaN         NaN\n",
              "261  South Africa          ZAF  ...  10285000.0  10472000.0\n",
              "262        Zambia          ZMB  ...   1083000.0   1072000.0\n",
              "263      Zimbabwe          ZWE  ...   2423000.0   2580000.0\n",
              "\n",
              "[5 rows x 7 columns]"
            ]
          },
          "metadata": {},
          "execution_count": 342
        }
      ]
    },
    {
      "cell_type": "code",
      "metadata": {
        "colab": {
          "base_uri": "https://localhost:8080/",
          "height": 297
        },
        "id": "0BM-GSE6F8OO",
        "outputId": "f5d6b337-308c-4bcb-c43b-699807d86747"
      },
      "source": [
        "Arrival.describe()"
      ],
      "execution_count": 343,
      "outputs": [
        {
          "output_type": "execute_result",
          "data": {
            "text/html": [
              "<div>\n",
              "<style scoped>\n",
              "    .dataframe tbody tr th:only-of-type {\n",
              "        vertical-align: middle;\n",
              "    }\n",
              "\n",
              "    .dataframe tbody tr th {\n",
              "        vertical-align: top;\n",
              "    }\n",
              "\n",
              "    .dataframe thead th {\n",
              "        text-align: right;\n",
              "    }\n",
              "</style>\n",
              "<table border=\"1\" class=\"dataframe\">\n",
              "  <thead>\n",
              "    <tr style=\"text-align: right;\">\n",
              "      <th></th>\n",
              "      <th>2016</th>\n",
              "      <th>2017</th>\n",
              "      <th>2018</th>\n",
              "    </tr>\n",
              "  </thead>\n",
              "  <tbody>\n",
              "    <tr>\n",
              "      <th>count</th>\n",
              "      <td>2.360000e+02</td>\n",
              "      <td>2.270000e+02</td>\n",
              "      <td>2.100000e+02</td>\n",
              "    </tr>\n",
              "    <tr>\n",
              "      <th>mean</th>\n",
              "      <td>4.668653e+07</td>\n",
              "      <td>5.183208e+07</td>\n",
              "      <td>5.874662e+07</td>\n",
              "    </tr>\n",
              "    <tr>\n",
              "      <th>std</th>\n",
              "      <td>1.440924e+08</td>\n",
              "      <td>1.577880e+08</td>\n",
              "      <td>1.731085e+08</td>\n",
              "    </tr>\n",
              "    <tr>\n",
              "      <th>min</th>\n",
              "      <td>2.500000e+03</td>\n",
              "      <td>2.500000e+03</td>\n",
              "      <td>2.700000e+03</td>\n",
              "    </tr>\n",
              "    <tr>\n",
              "      <th>25%</th>\n",
              "      <td>4.497500e+05</td>\n",
              "      <td>5.180000e+05</td>\n",
              "      <td>5.812500e+05</td>\n",
              "    </tr>\n",
              "    <tr>\n",
              "      <th>50%</th>\n",
              "      <td>2.562000e+06</td>\n",
              "      <td>2.690000e+06</td>\n",
              "      <td>3.351500e+06</td>\n",
              "    </tr>\n",
              "    <tr>\n",
              "      <th>75%</th>\n",
              "      <td>1.761425e+07</td>\n",
              "      <td>1.809100e+07</td>\n",
              "      <td>1.941150e+07</td>\n",
              "    </tr>\n",
              "    <tr>\n",
              "      <th>max</th>\n",
              "      <td>1.271882e+09</td>\n",
              "      <td>1.363216e+09</td>\n",
              "      <td>1.441953e+09</td>\n",
              "    </tr>\n",
              "  </tbody>\n",
              "</table>\n",
              "</div>"
            ],
            "text/plain": [
              "               2016          2017          2018\n",
              "count  2.360000e+02  2.270000e+02  2.100000e+02\n",
              "mean   4.668653e+07  5.183208e+07  5.874662e+07\n",
              "std    1.440924e+08  1.577880e+08  1.731085e+08\n",
              "min    2.500000e+03  2.500000e+03  2.700000e+03\n",
              "25%    4.497500e+05  5.180000e+05  5.812500e+05\n",
              "50%    2.562000e+06  2.690000e+06  3.351500e+06\n",
              "75%    1.761425e+07  1.809100e+07  1.941150e+07\n",
              "max    1.271882e+09  1.363216e+09  1.441953e+09"
            ]
          },
          "metadata": {},
          "execution_count": 343
        }
      ]
    },
    {
      "cell_type": "code",
      "metadata": {
        "colab": {
          "base_uri": "https://localhost:8080/"
        },
        "id": "p5HGU9-hHwVi",
        "outputId": "e5069b18-d21f-4585-c731-c94fdcd07339"
      },
      "source": [
        "len(Arrival)"
      ],
      "execution_count": 344,
      "outputs": [
        {
          "output_type": "execute_result",
          "data": {
            "text/plain": [
              "264"
            ]
          },
          "metadata": {},
          "execution_count": 344
        }
      ]
    },
    {
      "cell_type": "code",
      "metadata": {
        "colab": {
          "base_uri": "https://localhost:8080/"
        },
        "id": "rCQ9PXufH0MZ",
        "outputId": "fc059fe6-9bdd-41f2-8da5-fb558d2b3ae4"
      },
      "source": [
        "Arrival.info()"
      ],
      "execution_count": 271,
      "outputs": [
        {
          "output_type": "stream",
          "name": "stdout",
          "text": [
            "<class 'pandas.core.frame.DataFrame'>\n",
            "RangeIndex: 264 entries, 0 to 263\n",
            "Data columns (total 7 columns):\n",
            " #   Column          Non-Null Count  Dtype \n",
            "---  ------          --------------  ----- \n",
            " 0   Country Name    264 non-null    object\n",
            " 1   Country Code    264 non-null    object\n",
            " 2   Indicator Name  264 non-null    object\n",
            " 3   Indicator Code  264 non-null    object\n",
            " 4   2016            264 non-null    int64 \n",
            " 5   2017            264 non-null    int64 \n",
            " 6   2018            264 non-null    int64 \n",
            "dtypes: int64(3), object(4)\n",
            "memory usage: 14.6+ KB\n"
          ]
        }
      ]
    },
    {
      "cell_type": "code",
      "metadata": {
        "colab": {
          "base_uri": "https://localhost:8080/"
        },
        "id": "3Dwgy-ZvISHG",
        "outputId": "490bb012-51f3-409f-a574-8fe0a735dd49"
      },
      "source": [
        "Arrival.isnull().sum()\n"
      ],
      "execution_count": 272,
      "outputs": [
        {
          "output_type": "execute_result",
          "data": {
            "text/plain": [
              "Country Name      0\n",
              "Country Code      0\n",
              "Indicator Name    0\n",
              "Indicator Code    0\n",
              "2016              0\n",
              "2017              0\n",
              "2018              0\n",
              "dtype: int64"
            ]
          },
          "metadata": {},
          "execution_count": 272
        }
      ]
    },
    {
      "cell_type": "code",
      "metadata": {
        "colab": {
          "base_uri": "https://localhost:8080/"
        },
        "id": "cxCZ00zIIXeN",
        "outputId": "4f326a59-a884-4ef7-da5c-8105eaa5195a"
      },
      "source": [
        "Arrival.dropna(axis=0, inplace=True)\n"
      ],
      "execution_count": 273,
      "outputs": [
        {
          "output_type": "stream",
          "name": "stderr",
          "text": [
            "/usr/local/lib/python3.7/dist-packages/ipykernel_launcher.py:1: SettingWithCopyWarning: \n",
            "A value is trying to be set on a copy of a slice from a DataFrame\n",
            "\n",
            "See the caveats in the documentation: https://pandas.pydata.org/pandas-docs/stable/user_guide/indexing.html#returning-a-view-versus-a-copy\n",
            "  \"\"\"Entry point for launching an IPython kernel.\n"
          ]
        }
      ]
    },
    {
      "cell_type": "code",
      "metadata": {
        "colab": {
          "base_uri": "https://localhost:8080/"
        },
        "id": "tJA58o7TIbA5",
        "outputId": "ee945285-a1ea-4288-8134-3bbe44cddfc1"
      },
      "source": [
        "Arrival.isnull().sum()\n"
      ],
      "execution_count": 274,
      "outputs": [
        {
          "output_type": "execute_result",
          "data": {
            "text/plain": [
              "Country Name      0\n",
              "Country Code      0\n",
              "Indicator Name    0\n",
              "Indicator Code    0\n",
              "2016              0\n",
              "2017              0\n",
              "2018              0\n",
              "dtype: int64"
            ]
          },
          "metadata": {},
          "execution_count": 274
        }
      ]
    },
    {
      "cell_type": "code",
      "metadata": {
        "colab": {
          "base_uri": "https://localhost:8080/",
          "height": 297
        },
        "id": "YbK7akYSIf3d",
        "outputId": "73986400-a4d5-4e76-828e-1012f7a51522"
      },
      "source": [
        "Arrival.describe()"
      ],
      "execution_count": 275,
      "outputs": [
        {
          "output_type": "execute_result",
          "data": {
            "text/html": [
              "<div>\n",
              "<style scoped>\n",
              "    .dataframe tbody tr th:only-of-type {\n",
              "        vertical-align: middle;\n",
              "    }\n",
              "\n",
              "    .dataframe tbody tr th {\n",
              "        vertical-align: top;\n",
              "    }\n",
              "\n",
              "    .dataframe thead th {\n",
              "        text-align: right;\n",
              "    }\n",
              "</style>\n",
              "<table border=\"1\" class=\"dataframe\">\n",
              "  <thead>\n",
              "    <tr style=\"text-align: right;\">\n",
              "      <th></th>\n",
              "      <th>2016</th>\n",
              "      <th>2017</th>\n",
              "      <th>2018</th>\n",
              "    </tr>\n",
              "  </thead>\n",
              "  <tbody>\n",
              "    <tr>\n",
              "      <th>count</th>\n",
              "      <td>2.640000e+02</td>\n",
              "      <td>2.640000e+02</td>\n",
              "      <td>2.640000e+02</td>\n",
              "    </tr>\n",
              "    <tr>\n",
              "      <th>mean</th>\n",
              "      <td>-1.886599e+18</td>\n",
              "      <td>-1.886599e+18</td>\n",
              "      <td>-1.886599e+18</td>\n",
              "    </tr>\n",
              "    <tr>\n",
              "      <th>std</th>\n",
              "      <td>3.727489e+18</td>\n",
              "      <td>3.727489e+18</td>\n",
              "      <td>3.727489e+18</td>\n",
              "    </tr>\n",
              "    <tr>\n",
              "      <th>min</th>\n",
              "      <td>-9.223372e+18</td>\n",
              "      <td>-9.223372e+18</td>\n",
              "      <td>-9.223372e+18</td>\n",
              "    </tr>\n",
              "    <tr>\n",
              "      <th>25%</th>\n",
              "      <td>7.200000e+04</td>\n",
              "      <td>7.200000e+04</td>\n",
              "      <td>7.200000e+04</td>\n",
              "    </tr>\n",
              "    <tr>\n",
              "      <th>50%</th>\n",
              "      <td>1.642500e+06</td>\n",
              "      <td>1.642500e+06</td>\n",
              "      <td>1.642500e+06</td>\n",
              "    </tr>\n",
              "    <tr>\n",
              "      <th>75%</th>\n",
              "      <td>1.240400e+07</td>\n",
              "      <td>1.240400e+07</td>\n",
              "      <td>1.240400e+07</td>\n",
              "    </tr>\n",
              "    <tr>\n",
              "      <th>max</th>\n",
              "      <td>1.441953e+09</td>\n",
              "      <td>1.441953e+09</td>\n",
              "      <td>1.441953e+09</td>\n",
              "    </tr>\n",
              "  </tbody>\n",
              "</table>\n",
              "</div>"
            ],
            "text/plain": [
              "               2016          2017          2018\n",
              "count  2.640000e+02  2.640000e+02  2.640000e+02\n",
              "mean  -1.886599e+18 -1.886599e+18 -1.886599e+18\n",
              "std    3.727489e+18  3.727489e+18  3.727489e+18\n",
              "min   -9.223372e+18 -9.223372e+18 -9.223372e+18\n",
              "25%    7.200000e+04  7.200000e+04  7.200000e+04\n",
              "50%    1.642500e+06  1.642500e+06  1.642500e+06\n",
              "75%    1.240400e+07  1.240400e+07  1.240400e+07\n",
              "max    1.441953e+09  1.441953e+09  1.441953e+09"
            ]
          },
          "metadata": {},
          "execution_count": 275
        }
      ]
    },
    {
      "cell_type": "markdown",
      "metadata": {
        "id": "Zoav3zI-IqE7"
      },
      "source": [
        "**Hist**"
      ]
    },
    {
      "cell_type": "code",
      "metadata": {
        "colab": {
          "base_uri": "https://localhost:8080/",
          "height": 458
        },
        "id": "xyKOWTINIrru",
        "outputId": "ba23babc-e6e8-4448-f731-d997424a52ca"
      },
      "source": [
        "Arrival['2018'].plot.hist(bins=50, edgecolor='black')\n"
      ],
      "execution_count": 345,
      "outputs": [
        {
          "output_type": "execute_result",
          "data": {
            "text/plain": [
              "<matplotlib.axes._subplots.AxesSubplot at 0x7ff6b5361a10>"
            ]
          },
          "metadata": {},
          "execution_count": 345
        },
        {
          "output_type": "display_data",
          "data": {
            "image/png": "[encoded data removed]",
            "text/plain": [
              "<Figure size 792x504 with 1 Axes>"
            ]
          },
          "metadata": {
            "needs_background": "light"
          }
        }
      ]
    },
    {
      "cell_type": "code",
      "metadata": {
        "colab": {
          "base_uri": "https://localhost:8080/",
          "height": 458
        },
        "id": "9HOG0xElIxbc",
        "outputId": "0db872e5-f81b-4004-ffcc-33d48b582a61"
      },
      "source": [
        "Arrival['2017'].plot.hist(bins=50, edgecolor='black')\n"
      ],
      "execution_count": 397,
      "outputs": [
        {
          "output_type": "execute_result",
          "data": {
            "text/plain": [
              "<matplotlib.axes._subplots.AxesSubplot at 0x7ff6b527e690>"
            ]
          },
          "metadata": {},
          "execution_count": 397
        },
        {
          "output_type": "display_data",
          "data": {
            "image/png": "[encoded data removed]",
            "text/plain": [
              "<Figure size 792x504 with 1 Axes>"
            ]
          },
          "metadata": {
            "needs_background": "light"
          }
        }
      ]
    },
    {
      "cell_type": "code",
      "metadata": {
        "colab": {
          "base_uri": "https://localhost:8080/",
          "height": 458
        },
        "id": "zC2b5_cxI0Cw",
        "outputId": "f5bc43a0-228c-41d2-fdfd-f33a81c34a3f"
      },
      "source": [
        "Arrival['2016'].plot.hist(bins=50, edgecolor='black')\n"
      ],
      "execution_count": 347,
      "outputs": [
        {
          "output_type": "execute_result",
          "data": {
            "text/plain": [
              "<matplotlib.axes._subplots.AxesSubplot at 0x7ff6b5061410>"
            ]
          },
          "metadata": {},
          "execution_count": 347
        },
        {
          "output_type": "display_data",
          "data": {
            "image/png": "[encoded data removed]",
            "text/plain": [
              "<Figure size 792x504 with 1 Axes>"
            ]
          },
          "metadata": {
            "needs_background": "light"
          }
        }
      ]
    },
    {
      "cell_type": "code",
      "metadata": {
        "id": "7EwzJz0eJBdG"
      },
      "source": [
        "Brazil = Arrival[(Arrival['Country Name'] == 'Brazil')]\n"
      ],
      "execution_count": 348,
      "outputs": []
    },
    {
      "cell_type": "code",
      "metadata": {
        "colab": {
          "base_uri": "https://localhost:8080/",
          "height": 80
        },
        "id": "4mohgBX4JQnq",
        "outputId": "a360ada7-859d-4c45-fe03-d9048b625d0d"
      },
      "source": [
        "Canada = Arrival[(Arrival['Country Name'] == 'Canada')]\n",
        "Canada"
      ],
      "execution_count": 351,
      "outputs": [
        {
          "output_type": "execute_result",
          "data": {
            "text/html": [
              "<div>\n",
              "<style scoped>\n",
              "    .dataframe tbody tr th:only-of-type {\n",
              "        vertical-align: middle;\n",
              "    }\n",
              "\n",
              "    .dataframe tbody tr th {\n",
              "        vertical-align: top;\n",
              "    }\n",
              "\n",
              "    .dataframe thead th {\n",
              "        text-align: right;\n",
              "    }\n",
              "</style>\n",
              "<table border=\"1\" class=\"dataframe\">\n",
              "  <thead>\n",
              "    <tr style=\"text-align: right;\">\n",
              "      <th></th>\n",
              "      <th>Country Name</th>\n",
              "      <th>Country Code</th>\n",
              "      <th>Indicator Name</th>\n",
              "      <th>Indicator Code</th>\n",
              "      <th>2016</th>\n",
              "      <th>2017</th>\n",
              "      <th>2018</th>\n",
              "    </tr>\n",
              "  </thead>\n",
              "  <tbody>\n",
              "    <tr>\n",
              "      <th>33</th>\n",
              "      <td>Canada</td>\n",
              "      <td>CAN</td>\n",
              "      <td>International tourism, number of arrivals</td>\n",
              "      <td>ST.INT.ARVL</td>\n",
              "      <td>19971000.0</td>\n",
              "      <td>20883000.0</td>\n",
              "      <td>21134000.0</td>\n",
              "    </tr>\n",
              "  </tbody>\n",
              "</table>\n",
              "</div>"
            ],
            "text/plain": [
              "   Country Name Country Code  ...        2017        2018\n",
              "33       Canada          CAN  ...  20883000.0  21134000.0\n",
              "\n",
              "[1 rows x 7 columns]"
            ]
          },
          "metadata": {},
          "execution_count": 351
        }
      ]
    },
    {
      "cell_type": "code",
      "metadata": {
        "id": "Z1TtkZGAJTOR"
      },
      "source": [
        "Portugal = Arrival[(Arrival['Country Name'] == 'Portugal')]\n"
      ],
      "execution_count": 350,
      "outputs": []
    },
    {
      "cell_type": "code",
      "metadata": {
        "colab": {
          "base_uri": "https://localhost:8080/",
          "height": 204
        },
        "id": "eaziNWE-eqgL",
        "outputId": "3da33dc0-cb16-4bfa-87f4-1e0aa0a22ce5"
      },
      "source": [
        "df_arrival = Arrival.nlargest(5, '2018')\n",
        "df_arrival"
      ],
      "execution_count": 352,
      "outputs": [
        {
          "output_type": "execute_result",
          "data": {
            "text/html": [
              "<div>\n",
              "<style scoped>\n",
              "    .dataframe tbody tr th:only-of-type {\n",
              "        vertical-align: middle;\n",
              "    }\n",
              "\n",
              "    .dataframe tbody tr th {\n",
              "        vertical-align: top;\n",
              "    }\n",
              "\n",
              "    .dataframe thead th {\n",
              "        text-align: right;\n",
              "    }\n",
              "</style>\n",
              "<table border=\"1\" class=\"dataframe\">\n",
              "  <thead>\n",
              "    <tr style=\"text-align: right;\">\n",
              "      <th></th>\n",
              "      <th>Country Name</th>\n",
              "      <th>Country Code</th>\n",
              "      <th>Indicator Name</th>\n",
              "      <th>Indicator Code</th>\n",
              "      <th>2016</th>\n",
              "      <th>2017</th>\n",
              "      <th>2018</th>\n",
              "    </tr>\n",
              "  </thead>\n",
              "  <tbody>\n",
              "    <tr>\n",
              "      <th>257</th>\n",
              "      <td>World</td>\n",
              "      <td>WLD</td>\n",
              "      <td>International tourism, number of arrivals</td>\n",
              "      <td>ST.INT.ARVL</td>\n",
              "      <td>1.271882e+09</td>\n",
              "      <td>1.363216e+09</td>\n",
              "      <td>1.441953e+09</td>\n",
              "    </tr>\n",
              "    <tr>\n",
              "      <th>93</th>\n",
              "      <td>High income</td>\n",
              "      <td>HIC</td>\n",
              "      <td>International tourism, number of arrivals</td>\n",
              "      <td>ST.INT.ARVL</td>\n",
              "      <td>7.982830e+08</td>\n",
              "      <td>8.465875e+08</td>\n",
              "      <td>8.797195e+08</td>\n",
              "    </tr>\n",
              "    <tr>\n",
              "      <th>179</th>\n",
              "      <td>OECD members</td>\n",
              "      <td>OED</td>\n",
              "      <td>International tourism, number of arrivals</td>\n",
              "      <td>ST.INT.ARVL</td>\n",
              "      <td>7.009425e+08</td>\n",
              "      <td>7.539127e+08</td>\n",
              "      <td>7.912849e+08</td>\n",
              "    </tr>\n",
              "    <tr>\n",
              "      <th>196</th>\n",
              "      <td>Post-demographic dividend</td>\n",
              "      <td>PST</td>\n",
              "      <td>International tourism, number of arrivals</td>\n",
              "      <td>ST.INT.ARVL</td>\n",
              "      <td>6.965805e+08</td>\n",
              "      <td>7.426609e+08</td>\n",
              "      <td>7.733657e+08</td>\n",
              "    </tr>\n",
              "    <tr>\n",
              "      <th>63</th>\n",
              "      <td>Europe &amp; Central Asia</td>\n",
              "      <td>ECS</td>\n",
              "      <td>International tourism, number of arrivals</td>\n",
              "      <td>ST.INT.ARVL</td>\n",
              "      <td>6.215985e+08</td>\n",
              "      <td>6.751305e+08</td>\n",
              "      <td>7.125925e+08</td>\n",
              "    </tr>\n",
              "  </tbody>\n",
              "</table>\n",
              "</div>"
            ],
            "text/plain": [
              "                  Country Name Country Code  ...          2017          2018\n",
              "257                      World          WLD  ...  1.363216e+09  1.441953e+09\n",
              "93                 High income          HIC  ...  8.465875e+08  8.797195e+08\n",
              "179               OECD members          OED  ...  7.539127e+08  7.912849e+08\n",
              "196  Post-demographic dividend          PST  ...  7.426609e+08  7.733657e+08\n",
              "63       Europe & Central Asia          ECS  ...  6.751305e+08  7.125925e+08\n",
              "\n",
              "[5 rows x 7 columns]"
            ]
          },
          "metadata": {},
          "execution_count": 352
        }
      ]
    },
    {
      "cell_type": "code",
      "metadata": {
        "colab": {
          "base_uri": "https://localhost:8080/"
        },
        "id": "WSKd3rMJJgEH",
        "outputId": "65c5fa22-4bd2-4b79-d470-fcd9eadca67a"
      },
      "source": [
        "Arrival.groupby('Country Name').mean() ['2018'].sort_values(ascending=False)"
      ],
      "execution_count": 353,
      "outputs": [
        {
          "output_type": "execute_result",
          "data": {
            "text/plain": [
              "Country Name\n",
              "World                        1.441953e+09\n",
              "High income                  8.797195e+08\n",
              "OECD members                 7.912849e+08\n",
              "Post-demographic dividend    7.733657e+08\n",
              "Europe & Central Asia        7.125925e+08\n",
              "                                 ...     \n",
              "Syrian Arab Republic                  NaN\n",
              "Turkmenistan                          NaN\n",
              "Uganda                                NaN\n",
              "Venezuela, RB                         NaN\n",
              "Yemen, Rep.                           NaN\n",
              "Name: 2018, Length: 264, dtype: float64"
            ]
          },
          "metadata": {},
          "execution_count": 353
        }
      ]
    },
    {
      "cell_type": "code",
      "metadata": {
        "colab": {
          "base_uri": "https://localhost:8080/"
        },
        "id": "nt5An-qbJ2M9",
        "outputId": "cb25066c-55c3-436c-f9f0-6ef633412060"
      },
      "source": [
        "Arrival.groupby('Country Name').mean() ['2017'].sort_values(ascending=False)"
      ],
      "execution_count": 354,
      "outputs": [
        {
          "output_type": "execute_result",
          "data": {
            "text/plain": [
              "Country Name\n",
              "World                        1.363216e+09\n",
              "High income                  8.465875e+08\n",
              "OECD members                 7.539127e+08\n",
              "Post-demographic dividend    7.426609e+08\n",
              "Europe & Central Asia        6.751305e+08\n",
              "                                 ...     \n",
              "South Sudan                           NaN\n",
              "St. Martin (French part)              NaN\n",
              "Syrian Arab Republic                  NaN\n",
              "Turkmenistan                          NaN\n",
              "Yemen, Rep.                           NaN\n",
              "Name: 2017, Length: 264, dtype: float64"
            ]
          },
          "metadata": {},
          "execution_count": 354
        }
      ]
    },
    {
      "cell_type": "code",
      "metadata": {
        "colab": {
          "base_uri": "https://localhost:8080/"
        },
        "id": "kJFNduL2J4aT",
        "outputId": "fc99cc6c-ab2e-46e3-d10d-4956015f2d25"
      },
      "source": [
        "Arrival.groupby('Country Name').mean() ['2016'].sort_values(ascending=False)"
      ],
      "execution_count": 355,
      "outputs": [
        {
          "output_type": "execute_result",
          "data": {
            "text/plain": [
              "Country Name\n",
              "World                        1.271882e+09\n",
              "High income                  7.982830e+08\n",
              "OECD members                 7.009425e+08\n",
              "Post-demographic dividend    6.965805e+08\n",
              "Europe & Central Asia        6.215985e+08\n",
              "                                 ...     \n",
              "South Sudan                           NaN\n",
              "St. Martin (French part)              NaN\n",
              "Syrian Arab Republic                  NaN\n",
              "Turkmenistan                          NaN\n",
              "Yemen, Rep.                           NaN\n",
              "Name: 2016, Length: 264, dtype: float64"
            ]
          },
          "metadata": {},
          "execution_count": 355
        }
      ]
    },
    {
      "cell_type": "code",
      "metadata": {
        "colab": {
          "base_uri": "https://localhost:8080/"
        },
        "id": "Rcsen-65J_8D",
        "outputId": "32a58e7c-ca62-4c6f-ca7e-989f9393ff45"
      },
      "source": [
        "Arrival.groupby('Country Name')['2018'].nlargest(2).sum(level=0)\n",
        "\n"
      ],
      "execution_count": 356,
      "outputs": [
        {
          "output_type": "execute_result",
          "data": {
            "text/plain": [
              "Country Name\n",
              "Albania                  5.340000e+06\n",
              "Algeria                  2.657000e+06\n",
              "American Samoa           2.020000e+04\n",
              "Andorra                  3.042000e+06\n",
              "Angola                   2.180000e+05\n",
              "                             ...     \n",
              "Virgin Islands (U.S.)    3.810000e+05\n",
              "West Bank and Gaza       6.060000e+05\n",
              "World                    1.441953e+09\n",
              "Zambia                   1.072000e+06\n",
              "Zimbabwe                 2.580000e+06\n",
              "Name: 2018, Length: 210, dtype: float64"
            ]
          },
          "metadata": {},
          "execution_count": 356
        }
      ]
    },
    {
      "cell_type": "markdown",
      "metadata": {
        "id": "aO84O8FYtxBw"
      },
      "source": [
        "**Plot**"
      ]
    },
    {
      "cell_type": "code",
      "metadata": {
        "colab": {
          "base_uri": "https://localhost:8080/",
          "height": 439
        },
        "id": "d-bkfK2Fh8l-",
        "outputId": "0b86c2e4-407d-4df1-a3ba-49a72d96ae0e"
      },
      "source": [
        "\n",
        "plt.bar(df_arrival['Country Name'], df_arrival['2018'],)\n",
        "plt.show()"
      ],
      "execution_count": 357,
      "outputs": [
        {
          "output_type": "display_data",
          "data": {
            "image/png": "[encoded data removed]",
            "text/plain": [
              "<Figure size 792x504 with 1 Axes>"
            ]
          },
          "metadata": {
            "needs_background": "light"
          }
        }
      ]
    },
    {
      "cell_type": "code",
      "metadata": {
        "colab": {
          "base_uri": "https://localhost:8080/",
          "height": 439
        },
        "id": "LLIh5c7wu6oH",
        "outputId": "3b43ea99-6a2b-4c5e-c3c4-6fadd116574b"
      },
      "source": [
        "plt.bar(df_arrival['Country Name'], df_arrival['2017'],)\n",
        "plt.show()"
      ],
      "execution_count": 358,
      "outputs": [
        {
          "output_type": "display_data",
          "data": {
            "image/png": "[encoded data removed]",
            "text/plain": [
              "<Figure size 792x504 with 1 Axes>"
            ]
          },
          "metadata": {
            "needs_background": "light"
          }
        }
      ]
    },
    {
      "cell_type": "code",
      "metadata": {
        "colab": {
          "base_uri": "https://localhost:8080/",
          "height": 439
        },
        "id": "iKvhW4E6u8BM",
        "outputId": "be8a6420-b927-4842-b0f5-97ed539cb18b"
      },
      "source": [
        "plt.bar(df_arrival['Country Name'], df_arrival['2016'])\n",
        "plt.show()"
      ],
      "execution_count": 359,
      "outputs": [
        {
          "output_type": "display_data",
          "data": {
            "image/png": "[encoded data removed]",
            "text/plain": [
              "<Figure size 792x504 with 1 Axes>"
            ]
          },
          "metadata": {
            "needs_background": "light"
          }
        }
      ]
    },
    {
      "cell_type": "code",
      "metadata": {
        "colab": {
          "base_uri": "https://localhost:8080/",
          "height": 235
        },
        "id": "vYlR4p49ByPN",
        "outputId": "073a6804-69e5-44d2-d18c-96024e9c1a69"
      },
      "source": [
        "df_arrival.set_index('Country Name')"
      ],
      "execution_count": 360,
      "outputs": [
        {
          "output_type": "execute_result",
          "data": {
            "text/html": [
              "<div>\n",
              "<style scoped>\n",
              "    .dataframe tbody tr th:only-of-type {\n",
              "        vertical-align: middle;\n",
              "    }\n",
              "\n",
              "    .dataframe tbody tr th {\n",
              "        vertical-align: top;\n",
              "    }\n",
              "\n",
              "    .dataframe thead th {\n",
              "        text-align: right;\n",
              "    }\n",
              "</style>\n",
              "<table border=\"1\" class=\"dataframe\">\n",
              "  <thead>\n",
              "    <tr style=\"text-align: right;\">\n",
              "      <th></th>\n",
              "      <th>Country Code</th>\n",
              "      <th>Indicator Name</th>\n",
              "      <th>Indicator Code</th>\n",
              "      <th>2016</th>\n",
              "      <th>2017</th>\n",
              "      <th>2018</th>\n",
              "    </tr>\n",
              "    <tr>\n",
              "      <th>Country Name</th>\n",
              "      <th></th>\n",
              "      <th></th>\n",
              "      <th></th>\n",
              "      <th></th>\n",
              "      <th></th>\n",
              "      <th></th>\n",
              "    </tr>\n",
              "  </thead>\n",
              "  <tbody>\n",
              "    <tr>\n",
              "      <th>World</th>\n",
              "      <td>WLD</td>\n",
              "      <td>International tourism, number of arrivals</td>\n",
              "      <td>ST.INT.ARVL</td>\n",
              "      <td>1.271882e+09</td>\n",
              "      <td>1.363216e+09</td>\n",
              "      <td>1.441953e+09</td>\n",
              "    </tr>\n",
              "    <tr>\n",
              "      <th>High income</th>\n",
              "      <td>HIC</td>\n",
              "      <td>International tourism, number of arrivals</td>\n",
              "      <td>ST.INT.ARVL</td>\n",
              "      <td>7.982830e+08</td>\n",
              "      <td>8.465875e+08</td>\n",
              "      <td>8.797195e+08</td>\n",
              "    </tr>\n",
              "    <tr>\n",
              "      <th>OECD members</th>\n",
              "      <td>OED</td>\n",
              "      <td>International tourism, number of arrivals</td>\n",
              "      <td>ST.INT.ARVL</td>\n",
              "      <td>7.009425e+08</td>\n",
              "      <td>7.539127e+08</td>\n",
              "      <td>7.912849e+08</td>\n",
              "    </tr>\n",
              "    <tr>\n",
              "      <th>Post-demographic dividend</th>\n",
              "      <td>PST</td>\n",
              "      <td>International tourism, number of arrivals</td>\n",
              "      <td>ST.INT.ARVL</td>\n",
              "      <td>6.965805e+08</td>\n",
              "      <td>7.426609e+08</td>\n",
              "      <td>7.733657e+08</td>\n",
              "    </tr>\n",
              "    <tr>\n",
              "      <th>Europe &amp; Central Asia</th>\n",
              "      <td>ECS</td>\n",
              "      <td>International tourism, number of arrivals</td>\n",
              "      <td>ST.INT.ARVL</td>\n",
              "      <td>6.215985e+08</td>\n",
              "      <td>6.751305e+08</td>\n",
              "      <td>7.125925e+08</td>\n",
              "    </tr>\n",
              "  </tbody>\n",
              "</table>\n",
              "</div>"
            ],
            "text/plain": [
              "                          Country Code  ...          2018\n",
              "Country Name                            ...              \n",
              "World                              WLD  ...  1.441953e+09\n",
              "High income                        HIC  ...  8.797195e+08\n",
              "OECD members                       OED  ...  7.912849e+08\n",
              "Post-demographic dividend          PST  ...  7.733657e+08\n",
              "Europe & Central Asia              ECS  ...  7.125925e+08\n",
              "\n",
              "[5 rows x 6 columns]"
            ]
          },
          "metadata": {},
          "execution_count": 360
        }
      ]
    },
    {
      "cell_type": "code",
      "metadata": {
        "colab": {
          "base_uri": "https://localhost:8080/",
          "height": 235
        },
        "id": "5WN0tP7ICIAR",
        "outputId": "0340c9ab-d3bf-4836-acc3-69634746ede0"
      },
      "source": [
        "df_arrival_t = df_arrival.set_index('Country Name').T\n",
        "df_arrival_t"
      ],
      "execution_count": 384,
      "outputs": [
        {
          "output_type": "execute_result",
          "data": {
            "text/html": [
              "<div>\n",
              "<style scoped>\n",
              "    .dataframe tbody tr th:only-of-type {\n",
              "        vertical-align: middle;\n",
              "    }\n",
              "\n",
              "    .dataframe tbody tr th {\n",
              "        vertical-align: top;\n",
              "    }\n",
              "\n",
              "    .dataframe thead th {\n",
              "        text-align: right;\n",
              "    }\n",
              "</style>\n",
              "<table border=\"1\" class=\"dataframe\">\n",
              "  <thead>\n",
              "    <tr style=\"text-align: right;\">\n",
              "      <th>Country Name</th>\n",
              "      <th>World</th>\n",
              "      <th>High income</th>\n",
              "      <th>OECD members</th>\n",
              "      <th>Post-demographic dividend</th>\n",
              "      <th>Europe &amp; Central Asia</th>\n",
              "    </tr>\n",
              "  </thead>\n",
              "  <tbody>\n",
              "    <tr>\n",
              "      <th>Country Code</th>\n",
              "      <td>WLD</td>\n",
              "      <td>HIC</td>\n",
              "      <td>OED</td>\n",
              "      <td>PST</td>\n",
              "      <td>ECS</td>\n",
              "    </tr>\n",
              "    <tr>\n",
              "      <th>Indicator Name</th>\n",
              "      <td>International tourism, number of arrivals</td>\n",
              "      <td>International tourism, number of arrivals</td>\n",
              "      <td>International tourism, number of arrivals</td>\n",
              "      <td>International tourism, number of arrivals</td>\n",
              "      <td>International tourism, number of arrivals</td>\n",
              "    </tr>\n",
              "    <tr>\n",
              "      <th>Indicator Code</th>\n",
              "      <td>ST.INT.ARVL</td>\n",
              "      <td>ST.INT.ARVL</td>\n",
              "      <td>ST.INT.ARVL</td>\n",
              "      <td>ST.INT.ARVL</td>\n",
              "      <td>ST.INT.ARVL</td>\n",
              "    </tr>\n",
              "    <tr>\n",
              "      <th>2016</th>\n",
              "      <td>1.27188e+09</td>\n",
              "      <td>7.98283e+08</td>\n",
              "      <td>7.00942e+08</td>\n",
              "      <td>6.9658e+08</td>\n",
              "      <td>6.21599e+08</td>\n",
              "    </tr>\n",
              "    <tr>\n",
              "      <th>2017</th>\n",
              "      <td>1.36322e+09</td>\n",
              "      <td>8.46587e+08</td>\n",
              "      <td>7.53913e+08</td>\n",
              "      <td>7.42661e+08</td>\n",
              "      <td>6.7513e+08</td>\n",
              "    </tr>\n",
              "    <tr>\n",
              "      <th>2018</th>\n",
              "      <td>1.44195e+09</td>\n",
              "      <td>8.79719e+08</td>\n",
              "      <td>7.91285e+08</td>\n",
              "      <td>7.73366e+08</td>\n",
              "      <td>7.12592e+08</td>\n",
              "    </tr>\n",
              "  </tbody>\n",
              "</table>\n",
              "</div>"
            ],
            "text/plain": [
              "Country Name                                        World  ...                      Europe & Central Asia\n",
              "Country Code                                          WLD  ...                                        ECS\n",
              "Indicator Name  International tourism, number of arrivals  ...  International tourism, number of arrivals\n",
              "Indicator Code                                ST.INT.ARVL  ...                                ST.INT.ARVL\n",
              "2016                                          1.27188e+09  ...                                6.21599e+08\n",
              "2017                                          1.36322e+09  ...                                 6.7513e+08\n",
              "2018                                          1.44195e+09  ...                                7.12592e+08\n",
              "\n",
              "[6 rows x 5 columns]"
            ]
          },
          "metadata": {},
          "execution_count": 384
        }
      ]
    },
    {
      "cell_type": "code",
      "metadata": {
        "colab": {
          "base_uri": "https://localhost:8080/",
          "height": 235
        },
        "id": "mBUrd-iVl_fZ",
        "outputId": "b3fb2252-b867-4d59-e4c6-c531943ee586"
      },
      "source": [
        "df_arrival_t = df_arrival_t.reset_index()\n",
        "df_arrival_t"
      ],
      "execution_count": 385,
      "outputs": [
        {
          "output_type": "execute_result",
          "data": {
            "text/html": [
              "<div>\n",
              "<style scoped>\n",
              "    .dataframe tbody tr th:only-of-type {\n",
              "        vertical-align: middle;\n",
              "    }\n",
              "\n",
              "    .dataframe tbody tr th {\n",
              "        vertical-align: top;\n",
              "    }\n",
              "\n",
              "    .dataframe thead th {\n",
              "        text-align: right;\n",
              "    }\n",
              "</style>\n",
              "<table border=\"1\" class=\"dataframe\">\n",
              "  <thead>\n",
              "    <tr style=\"text-align: right;\">\n",
              "      <th>Country Name</th>\n",
              "      <th>index</th>\n",
              "      <th>World</th>\n",
              "      <th>High income</th>\n",
              "      <th>OECD members</th>\n",
              "      <th>Post-demographic dividend</th>\n",
              "      <th>Europe &amp; Central Asia</th>\n",
              "    </tr>\n",
              "  </thead>\n",
              "  <tbody>\n",
              "    <tr>\n",
              "      <th>0</th>\n",
              "      <td>Country Code</td>\n",
              "      <td>WLD</td>\n",
              "      <td>HIC</td>\n",
              "      <td>OED</td>\n",
              "      <td>PST</td>\n",
              "      <td>ECS</td>\n",
              "    </tr>\n",
              "    <tr>\n",
              "      <th>1</th>\n",
              "      <td>Indicator Name</td>\n",
              "      <td>International tourism, number of arrivals</td>\n",
              "      <td>International tourism, number of arrivals</td>\n",
              "      <td>International tourism, number of arrivals</td>\n",
              "      <td>International tourism, number of arrivals</td>\n",
              "      <td>International tourism, number of arrivals</td>\n",
              "    </tr>\n",
              "    <tr>\n",
              "      <th>2</th>\n",
              "      <td>Indicator Code</td>\n",
              "      <td>ST.INT.ARVL</td>\n",
              "      <td>ST.INT.ARVL</td>\n",
              "      <td>ST.INT.ARVL</td>\n",
              "      <td>ST.INT.ARVL</td>\n",
              "      <td>ST.INT.ARVL</td>\n",
              "    </tr>\n",
              "    <tr>\n",
              "      <th>3</th>\n",
              "      <td>2016</td>\n",
              "      <td>1.27188e+09</td>\n",
              "      <td>7.98283e+08</td>\n",
              "      <td>7.00942e+08</td>\n",
              "      <td>6.9658e+08</td>\n",
              "      <td>6.21599e+08</td>\n",
              "    </tr>\n",
              "    <tr>\n",
              "      <th>4</th>\n",
              "      <td>2017</td>\n",
              "      <td>1.36322e+09</td>\n",
              "      <td>8.46587e+08</td>\n",
              "      <td>7.53913e+08</td>\n",
              "      <td>7.42661e+08</td>\n",
              "      <td>6.7513e+08</td>\n",
              "    </tr>\n",
              "    <tr>\n",
              "      <th>5</th>\n",
              "      <td>2018</td>\n",
              "      <td>1.44195e+09</td>\n",
              "      <td>8.79719e+08</td>\n",
              "      <td>7.91285e+08</td>\n",
              "      <td>7.73366e+08</td>\n",
              "      <td>7.12592e+08</td>\n",
              "    </tr>\n",
              "  </tbody>\n",
              "</table>\n",
              "</div>"
            ],
            "text/plain": [
              "Country Name           index  ...                      Europe & Central Asia\n",
              "0               Country Code  ...                                        ECS\n",
              "1             Indicator Name  ...  International tourism, number of arrivals\n",
              "2             Indicator Code  ...                                ST.INT.ARVL\n",
              "3                       2016  ...                                6.21599e+08\n",
              "4                       2017  ...                                 6.7513e+08\n",
              "5                       2018  ...                                7.12592e+08\n",
              "\n",
              "[6 rows x 6 columns]"
            ]
          },
          "metadata": {},
          "execution_count": 385
        }
      ]
    },
    {
      "cell_type": "code",
      "metadata": {
        "id": "d1MssHjA0Tev"
      },
      "source": [
        "df_arrival_t= df_arrival_t.drop([0, 1, 2])"
      ],
      "execution_count": 386,
      "outputs": []
    },
    {
      "cell_type": "code",
      "metadata": {
        "colab": {
          "base_uri": "https://localhost:8080/",
          "height": 142
        },
        "id": "Hy-fgA301syZ",
        "outputId": "795d8d14-beb6-4e57-ab18-7ae86117a776"
      },
      "source": [
        "df_arrival_t"
      ],
      "execution_count": 387,
      "outputs": [
        {
          "output_type": "execute_result",
          "data": {
            "text/html": [
              "<div>\n",
              "<style scoped>\n",
              "    .dataframe tbody tr th:only-of-type {\n",
              "        vertical-align: middle;\n",
              "    }\n",
              "\n",
              "    .dataframe tbody tr th {\n",
              "        vertical-align: top;\n",
              "    }\n",
              "\n",
              "    .dataframe thead th {\n",
              "        text-align: right;\n",
              "    }\n",
              "</style>\n",
              "<table border=\"1\" class=\"dataframe\">\n",
              "  <thead>\n",
              "    <tr style=\"text-align: right;\">\n",
              "      <th>Country Name</th>\n",
              "      <th>index</th>\n",
              "      <th>World</th>\n",
              "      <th>High income</th>\n",
              "      <th>OECD members</th>\n",
              "      <th>Post-demographic dividend</th>\n",
              "      <th>Europe &amp; Central Asia</th>\n",
              "    </tr>\n",
              "  </thead>\n",
              "  <tbody>\n",
              "    <tr>\n",
              "      <th>3</th>\n",
              "      <td>2016</td>\n",
              "      <td>1.27188e+09</td>\n",
              "      <td>7.98283e+08</td>\n",
              "      <td>7.00942e+08</td>\n",
              "      <td>6.9658e+08</td>\n",
              "      <td>6.21599e+08</td>\n",
              "    </tr>\n",
              "    <tr>\n",
              "      <th>4</th>\n",
              "      <td>2017</td>\n",
              "      <td>1.36322e+09</td>\n",
              "      <td>8.46587e+08</td>\n",
              "      <td>7.53913e+08</td>\n",
              "      <td>7.42661e+08</td>\n",
              "      <td>6.7513e+08</td>\n",
              "    </tr>\n",
              "    <tr>\n",
              "      <th>5</th>\n",
              "      <td>2018</td>\n",
              "      <td>1.44195e+09</td>\n",
              "      <td>8.79719e+08</td>\n",
              "      <td>7.91285e+08</td>\n",
              "      <td>7.73366e+08</td>\n",
              "      <td>7.12592e+08</td>\n",
              "    </tr>\n",
              "  </tbody>\n",
              "</table>\n",
              "</div>"
            ],
            "text/plain": [
              "Country Name index        World  ... Post-demographic dividend Europe & Central Asia\n",
              "3             2016  1.27188e+09  ...                6.9658e+08           6.21599e+08\n",
              "4             2017  1.36322e+09  ...               7.42661e+08            6.7513e+08\n",
              "5             2018  1.44195e+09  ...               7.73366e+08           7.12592e+08\n",
              "\n",
              "[3 rows x 6 columns]"
            ]
          },
          "metadata": {},
          "execution_count": 387
        }
      ]
    },
    {
      "cell_type": "code",
      "metadata": {
        "colab": {
          "base_uri": "https://localhost:8080/",
          "height": 142
        },
        "id": "aSsKr6Hu2Wrq",
        "outputId": "65f0f3f8-6eee-407a-a6ed-a4f6b779b3b1"
      },
      "source": [
        "df_arrival_t"
      ],
      "execution_count": 388,
      "outputs": [
        {
          "output_type": "execute_result",
          "data": {
            "text/html": [
              "<div>\n",
              "<style scoped>\n",
              "    .dataframe tbody tr th:only-of-type {\n",
              "        vertical-align: middle;\n",
              "    }\n",
              "\n",
              "    .dataframe tbody tr th {\n",
              "        vertical-align: top;\n",
              "    }\n",
              "\n",
              "    .dataframe thead th {\n",
              "        text-align: right;\n",
              "    }\n",
              "</style>\n",
              "<table border=\"1\" class=\"dataframe\">\n",
              "  <thead>\n",
              "    <tr style=\"text-align: right;\">\n",
              "      <th>Country Name</th>\n",
              "      <th>index</th>\n",
              "      <th>World</th>\n",
              "      <th>High income</th>\n",
              "      <th>OECD members</th>\n",
              "      <th>Post-demographic dividend</th>\n",
              "      <th>Europe &amp; Central Asia</th>\n",
              "    </tr>\n",
              "  </thead>\n",
              "  <tbody>\n",
              "    <tr>\n",
              "      <th>3</th>\n",
              "      <td>2016</td>\n",
              "      <td>1.27188e+09</td>\n",
              "      <td>7.98283e+08</td>\n",
              "      <td>7.00942e+08</td>\n",
              "      <td>6.9658e+08</td>\n",
              "      <td>6.21599e+08</td>\n",
              "    </tr>\n",
              "    <tr>\n",
              "      <th>4</th>\n",
              "      <td>2017</td>\n",
              "      <td>1.36322e+09</td>\n",
              "      <td>8.46587e+08</td>\n",
              "      <td>7.53913e+08</td>\n",
              "      <td>7.42661e+08</td>\n",
              "      <td>6.7513e+08</td>\n",
              "    </tr>\n",
              "    <tr>\n",
              "      <th>5</th>\n",
              "      <td>2018</td>\n",
              "      <td>1.44195e+09</td>\n",
              "      <td>8.79719e+08</td>\n",
              "      <td>7.91285e+08</td>\n",
              "      <td>7.73366e+08</td>\n",
              "      <td>7.12592e+08</td>\n",
              "    </tr>\n",
              "  </tbody>\n",
              "</table>\n",
              "</div>"
            ],
            "text/plain": [
              "Country Name index        World  ... Post-demographic dividend Europe & Central Asia\n",
              "3             2016  1.27188e+09  ...                6.9658e+08           6.21599e+08\n",
              "4             2017  1.36322e+09  ...               7.42661e+08            6.7513e+08\n",
              "5             2018  1.44195e+09  ...               7.73366e+08           7.12592e+08\n",
              "\n",
              "[3 rows x 6 columns]"
            ]
          },
          "metadata": {},
          "execution_count": 388
        }
      ]
    },
    {
      "cell_type": "code",
      "metadata": {
        "id": "Jc9ilvn32oKJ"
      },
      "source": [
        "df_arrival_t= df_arrival_t.rename(columns = {\n",
        "    'index': 'Year', \n",
        "    'World': 'World',\n",
        "    'High income\t': 'High income\t', \n",
        "    'OECD members\t': 'OECD members', \n",
        "    'Post-demographic dividend\t\t': 'Post-demographic dividend\t', \n",
        "    'Europe & Central Asia': 'Europe & Central Asia'\n",
        "    }, inplace = False)\n"
      ],
      "execution_count": 389,
      "outputs": []
    },
    {
      "cell_type": "code",
      "metadata": {
        "colab": {
          "base_uri": "https://localhost:8080/",
          "height": 142
        },
        "id": "L-7cfT5p3Zwt",
        "outputId": "ce5ec8d1-dd47-4e0f-d0ee-ca621d11db97"
      },
      "source": [
        "df_arrival_t"
      ],
      "execution_count": 390,
      "outputs": [
        {
          "output_type": "execute_result",
          "data": {
            "text/html": [
              "<div>\n",
              "<style scoped>\n",
              "    .dataframe tbody tr th:only-of-type {\n",
              "        vertical-align: middle;\n",
              "    }\n",
              "\n",
              "    .dataframe tbody tr th {\n",
              "        vertical-align: top;\n",
              "    }\n",
              "\n",
              "    .dataframe thead th {\n",
              "        text-align: right;\n",
              "    }\n",
              "</style>\n",
              "<table border=\"1\" class=\"dataframe\">\n",
              "  <thead>\n",
              "    <tr style=\"text-align: right;\">\n",
              "      <th>Country Name</th>\n",
              "      <th>Year</th>\n",
              "      <th>World</th>\n",
              "      <th>High income</th>\n",
              "      <th>OECD members</th>\n",
              "      <th>Post-demographic dividend</th>\n",
              "      <th>Europe &amp; Central Asia</th>\n",
              "    </tr>\n",
              "  </thead>\n",
              "  <tbody>\n",
              "    <tr>\n",
              "      <th>3</th>\n",
              "      <td>2016</td>\n",
              "      <td>1.27188e+09</td>\n",
              "      <td>7.98283e+08</td>\n",
              "      <td>7.00942e+08</td>\n",
              "      <td>6.9658e+08</td>\n",
              "      <td>6.21599e+08</td>\n",
              "    </tr>\n",
              "    <tr>\n",
              "      <th>4</th>\n",
              "      <td>2017</td>\n",
              "      <td>1.36322e+09</td>\n",
              "      <td>8.46587e+08</td>\n",
              "      <td>7.53913e+08</td>\n",
              "      <td>7.42661e+08</td>\n",
              "      <td>6.7513e+08</td>\n",
              "    </tr>\n",
              "    <tr>\n",
              "      <th>5</th>\n",
              "      <td>2018</td>\n",
              "      <td>1.44195e+09</td>\n",
              "      <td>8.79719e+08</td>\n",
              "      <td>7.91285e+08</td>\n",
              "      <td>7.73366e+08</td>\n",
              "      <td>7.12592e+08</td>\n",
              "    </tr>\n",
              "  </tbody>\n",
              "</table>\n",
              "</div>"
            ],
            "text/plain": [
              "Country Name  Year        World  ... Post-demographic dividend Europe & Central Asia\n",
              "3             2016  1.27188e+09  ...                6.9658e+08           6.21599e+08\n",
              "4             2017  1.36322e+09  ...               7.42661e+08            6.7513e+08\n",
              "5             2018  1.44195e+09  ...               7.73366e+08           7.12592e+08\n",
              "\n",
              "[3 rows x 6 columns]"
            ]
          },
          "metadata": {},
          "execution_count": 390
        }
      ]
    },
    {
      "cell_type": "code",
      "metadata": {
        "colab": {
          "base_uri": "https://localhost:8080/"
        },
        "id": "Bv-b9K3J53LQ",
        "outputId": "6e67fd4d-5b2e-4a1b-a854-5b9d28d11fc4"
      },
      "source": [
        "df_arrival_t.info()"
      ],
      "execution_count": 391,
      "outputs": [
        {
          "output_type": "stream",
          "name": "stdout",
          "text": [
            "<class 'pandas.core.frame.DataFrame'>\n",
            "Int64Index: 3 entries, 3 to 5\n",
            "Data columns (total 6 columns):\n",
            " #   Column                     Non-Null Count  Dtype \n",
            "---  ------                     --------------  ----- \n",
            " 0   Year                       3 non-null      object\n",
            " 1   World                      3 non-null      object\n",
            " 2   High income                3 non-null      object\n",
            " 3   OECD members               3 non-null      object\n",
            " 4   Post-demographic dividend  3 non-null      object\n",
            " 5   Europe & Central Asia      3 non-null      object\n",
            "dtypes: object(6)\n",
            "memory usage: 168.0+ bytes\n"
          ]
        }
      ]
    },
    {
      "cell_type": "code",
      "metadata": {
        "id": "yzHj1DY0-VQW"
      },
      "source": [
        "df_arrival_t['World'] = df_arrival_t['World'].astype(int)\n",
        "df_arrival_t['High income'] = df_arrival_t['High income'].astype(int)\n",
        "df_arrival_t['OECD members'] = df_arrival_t['OECD members'].astype(int)\n",
        "df_arrival_t['Post-demographic dividend'] = df_arrival_t['Post-demographic dividend'].astype(int)\n",
        "df_arrival_t['Europe & Central Asia'] = df_arrival_t['Europe & Central Asia'].astype(int)\n"
      ],
      "execution_count": 393,
      "outputs": []
    },
    {
      "cell_type": "code",
      "metadata": {
        "colab": {
          "base_uri": "https://localhost:8080/",
          "height": 142
        },
        "id": "uqSIh0q_-8Rv",
        "outputId": "24e73b89-a5ee-4127-9b78-7838bec5d1b5"
      },
      "source": [
        "df_arrival_t"
      ],
      "execution_count": 394,
      "outputs": [
        {
          "output_type": "execute_result",
          "data": {
            "text/html": [
              "<div>\n",
              "<style scoped>\n",
              "    .dataframe tbody tr th:only-of-type {\n",
              "        vertical-align: middle;\n",
              "    }\n",
              "\n",
              "    .dataframe tbody tr th {\n",
              "        vertical-align: top;\n",
              "    }\n",
              "\n",
              "    .dataframe thead th {\n",
              "        text-align: right;\n",
              "    }\n",
              "</style>\n",
              "<table border=\"1\" class=\"dataframe\">\n",
              "  <thead>\n",
              "    <tr style=\"text-align: right;\">\n",
              "      <th>Country Name</th>\n",
              "      <th>Year</th>\n",
              "      <th>World</th>\n",
              "      <th>High income</th>\n",
              "      <th>OECD members</th>\n",
              "      <th>Post-demographic dividend</th>\n",
              "      <th>Europe &amp; Central Asia</th>\n",
              "    </tr>\n",
              "  </thead>\n",
              "  <tbody>\n",
              "    <tr>\n",
              "      <th>3</th>\n",
              "      <td>2016</td>\n",
              "      <td>1271881626</td>\n",
              "      <td>798283035</td>\n",
              "      <td>700942480</td>\n",
              "      <td>696580480</td>\n",
              "      <td>621598529</td>\n",
              "    </tr>\n",
              "    <tr>\n",
              "      <th>4</th>\n",
              "      <td>2017</td>\n",
              "      <td>1363216205</td>\n",
              "      <td>846587465</td>\n",
              "      <td>753912740</td>\n",
              "      <td>742660940</td>\n",
              "      <td>675130478</td>\n",
              "    </tr>\n",
              "    <tr>\n",
              "      <th>5</th>\n",
              "      <td>2018</td>\n",
              "      <td>1441953149</td>\n",
              "      <td>879719450</td>\n",
              "      <td>791284920</td>\n",
              "      <td>773365720</td>\n",
              "      <td>712592479</td>\n",
              "    </tr>\n",
              "  </tbody>\n",
              "</table>\n",
              "</div>"
            ],
            "text/plain": [
              "Country Name  Year  ...  Europe & Central Asia\n",
              "3             2016  ...              621598529\n",
              "4             2017  ...              675130478\n",
              "5             2018  ...              712592479\n",
              "\n",
              "[3 rows x 6 columns]"
            ]
          },
          "metadata": {},
          "execution_count": 394
        }
      ]
    },
    {
      "cell_type": "code",
      "metadata": {
        "colab": {
          "base_uri": "https://localhost:8080/",
          "height": 475
        },
        "id": "L3LGlPKD5w9I",
        "outputId": "0cfd60c2-5acd-434d-d37f-a16cd21477a6"
      },
      "source": [
        "plt.title(\"Chegadas por grupo de países ao longo dos anos\")\n",
        "plt.ylabel(\"Visitantes\")\n",
        "plt.xlabel(\"Ano\")\n",
        "plt.plot(df_arrival_t['Year'],df_arrival_t['World'],label = 'World')\n",
        "plt.plot(df_arrival_t['Year'],df_arrival_t['High income'],label = 'High income')\n",
        "plt.plot(df_arrival_t['Year'],df_arrival_t['OECD members'],label = 'OECD members')\n",
        "plt.plot(df_arrival_t['Year'],df_arrival_t['Post-demographic dividend'],label ='Post-demographic dividend')\n",
        "plt.plot(df_arrival_t['Year'],df_arrival_t['Europe & Central Asia'],label ='Europe & Central Asia')\n",
        "plt.legend()"
      ],
      "execution_count": 395,
      "outputs": [
        {
          "output_type": "execute_result",
          "data": {
            "text/plain": [
              "<matplotlib.legend.Legend at 0x7ff6b5fa0090>"
            ]
          },
          "metadata": {},
          "execution_count": 395
        },
        {
          "output_type": "display_data",
          "data": {
            "image/png": "[encoded data removed]",
            "text/plain": [
              "<Figure size 792x504 with 1 Axes>"
            ]
          },
          "metadata": {
            "needs_background": "light"
          }
        }
      ]
    }
  ]
}